{
 "cells": [
  {
   "cell_type": "markdown",
   "metadata": {},
   "source": [
    "<h1><center><font color=darkcyan>  TP d'Apprentissage statistiques sur les données biologiques </font></center></h1>\n",
    "\n",
    "<h2><center><font color=darkorange> Application aux arbres et aux SVM</font></center></h2>\n",
    "\n",
    "<lu>\n",
    "    <li><font color=darkblue> SOPGOUI MBEUKAM Lionel</font></li>\n",
    "    <li><font color=darkblue> ADDASSI Youssef</font></li>\n",
    "</lu>\n",
    "<hr>"
   ]
  },
  {
   "cell_type": "code",
   "execution_count": 1,
   "metadata": {},
   "outputs": [],
   "source": [
    "import pandas as pd\n",
    "from sklearn.decomposition import PCA\n",
    "import random\n",
    "import matplotlib.pyplot as plt\n",
    "import numpy as np\n",
    "from scipy import stats\n",
    "from statsmodels.stats.multitest import fdrcorrection\n",
    "\n",
    "import warnings\n",
    "warnings.filterwarnings(\"ignore\")"
   ]
  },
  {
   "cell_type": "markdown",
   "metadata": {},
   "source": [
    "### Question 1 : Chargement et préparation des données"
   ]
  },
  {
   "cell_type": "code",
   "execution_count": 2,
   "metadata": {},
   "outputs": [],
   "source": [
    "label = pd.read_csv('GSE17924_series_matrix.txt',sep='\\t',index_col=0)\n",
    "label = label.transpose()\n",
    "label = label[\"severity\"]"
   ]
  },
  {
   "cell_type": "markdown",
   "metadata": {},
   "source": [
    "#### On enlève les sévérités DHF dans les données"
   ]
  },
  {
   "cell_type": "code",
   "execution_count": 3,
   "metadata": {},
   "outputs": [],
   "source": [
    "msk = ~(label == \"severity: DHF\")"
   ]
  },
  {
   "cell_type": "code",
   "execution_count": 4,
   "metadata": {},
   "outputs": [
    {
     "data": {
      "text/html": [
       "<div>\n",
       "<style scoped>\n",
       "    .dataframe tbody tr th:only-of-type {\n",
       "        vertical-align: middle;\n",
       "    }\n",
       "\n",
       "    .dataframe tbody tr th {\n",
       "        vertical-align: top;\n",
       "    }\n",
       "\n",
       "    .dataframe thead th {\n",
       "        text-align: right;\n",
       "    }\n",
       "</style>\n",
       "<table border=\"1\" class=\"dataframe\">\n",
       "  <thead>\n",
       "    <tr style=\"text-align: right;\">\n",
       "      <th></th>\n",
       "      <th>12</th>\n",
       "      <th>13</th>\n",
       "      <th>14</th>\n",
       "      <th>15</th>\n",
       "      <th>16</th>\n",
       "      <th>17</th>\n",
       "      <th>18</th>\n",
       "      <th>19</th>\n",
       "      <th>20</th>\n",
       "      <th>21</th>\n",
       "      <th>...</th>\n",
       "      <th>45200</th>\n",
       "      <th>45201</th>\n",
       "      <th>45202</th>\n",
       "      <th>45203</th>\n",
       "      <th>45204</th>\n",
       "      <th>45205</th>\n",
       "      <th>45206</th>\n",
       "      <th>45207</th>\n",
       "      <th>45208</th>\n",
       "      <th>45209</th>\n",
       "    </tr>\n",
       "  </thead>\n",
       "  <tbody>\n",
       "    <tr>\n",
       "      <td>GSM447781</td>\n",
       "      <td>11.519934</td>\n",
       "      <td>6.915259</td>\n",
       "      <td>9.818105</td>\n",
       "      <td>5.371255</td>\n",
       "      <td>11.843452</td>\n",
       "      <td>4.810572</td>\n",
       "      <td>7.450713</td>\n",
       "      <td>14.397061</td>\n",
       "      <td>5.763549</td>\n",
       "      <td>4.984783</td>\n",
       "      <td>...</td>\n",
       "      <td>5.252327</td>\n",
       "      <td>10.047690</td>\n",
       "      <td>8.234652</td>\n",
       "      <td>13.762584</td>\n",
       "      <td>4.728840</td>\n",
       "      <td>6.430334</td>\n",
       "      <td>9.537699</td>\n",
       "      <td>2.745445</td>\n",
       "      <td>2.735733</td>\n",
       "      <td>9.696610</td>\n",
       "    </tr>\n",
       "    <tr>\n",
       "      <td>GSM447782</td>\n",
       "      <td>10.266369</td>\n",
       "      <td>6.584705</td>\n",
       "      <td>10.149880</td>\n",
       "      <td>5.462203</td>\n",
       "      <td>11.636645</td>\n",
       "      <td>4.863805</td>\n",
       "      <td>7.495921</td>\n",
       "      <td>14.840463</td>\n",
       "      <td>5.832707</td>\n",
       "      <td>5.497416</td>\n",
       "      <td>...</td>\n",
       "      <td>5.202092</td>\n",
       "      <td>10.436165</td>\n",
       "      <td>7.862535</td>\n",
       "      <td>13.666809</td>\n",
       "      <td>4.914479</td>\n",
       "      <td>8.071005</td>\n",
       "      <td>10.409059</td>\n",
       "      <td>3.043695</td>\n",
       "      <td>2.825944</td>\n",
       "      <td>9.847350</td>\n",
       "    </tr>\n",
       "    <tr>\n",
       "      <td>GSM447783</td>\n",
       "      <td>11.517425</td>\n",
       "      <td>6.336898</td>\n",
       "      <td>9.712470</td>\n",
       "      <td>5.873331</td>\n",
       "      <td>11.452921</td>\n",
       "      <td>3.893979</td>\n",
       "      <td>7.288172</td>\n",
       "      <td>14.405493</td>\n",
       "      <td>6.228280</td>\n",
       "      <td>4.320078</td>\n",
       "      <td>...</td>\n",
       "      <td>6.325055</td>\n",
       "      <td>9.824410</td>\n",
       "      <td>8.270700</td>\n",
       "      <td>13.628572</td>\n",
       "      <td>5.813508</td>\n",
       "      <td>7.943193</td>\n",
       "      <td>9.742599</td>\n",
       "      <td>5.692912</td>\n",
       "      <td>5.057673</td>\n",
       "      <td>9.879107</td>\n",
       "    </tr>\n",
       "    <tr>\n",
       "      <td>GSM447784</td>\n",
       "      <td>11.963806</td>\n",
       "      <td>5.881100</td>\n",
       "      <td>9.836638</td>\n",
       "      <td>4.544681</td>\n",
       "      <td>12.135660</td>\n",
       "      <td>5.605158</td>\n",
       "      <td>7.279210</td>\n",
       "      <td>15.060383</td>\n",
       "      <td>5.757566</td>\n",
       "      <td>4.385994</td>\n",
       "      <td>...</td>\n",
       "      <td>4.642562</td>\n",
       "      <td>10.524205</td>\n",
       "      <td>9.303061</td>\n",
       "      <td>13.481760</td>\n",
       "      <td>4.608364</td>\n",
       "      <td>6.823640</td>\n",
       "      <td>10.768028</td>\n",
       "      <td>2.447080</td>\n",
       "      <td>2.593118</td>\n",
       "      <td>10.984354</td>\n",
       "    </tr>\n",
       "    <tr>\n",
       "      <td>GSM447786</td>\n",
       "      <td>12.407864</td>\n",
       "      <td>7.346544</td>\n",
       "      <td>10.485600</td>\n",
       "      <td>6.158914</td>\n",
       "      <td>12.140635</td>\n",
       "      <td>4.729529</td>\n",
       "      <td>6.950945</td>\n",
       "      <td>14.660080</td>\n",
       "      <td>5.301891</td>\n",
       "      <td>4.351304</td>\n",
       "      <td>...</td>\n",
       "      <td>5.733378</td>\n",
       "      <td>9.522212</td>\n",
       "      <td>8.506282</td>\n",
       "      <td>14.262629</td>\n",
       "      <td>7.424536</td>\n",
       "      <td>7.967575</td>\n",
       "      <td>9.776831</td>\n",
       "      <td>3.795896</td>\n",
       "      <td>4.468312</td>\n",
       "      <td>9.091121</td>\n",
       "    </tr>\n",
       "  </tbody>\n",
       "</table>\n",
       "<p>5 rows × 43376 columns</p>\n",
       "</div>"
      ],
      "text/plain": [
       "               12        13         14        15         16        17     \\\n",
       "GSM447781  11.519934  6.915259   9.818105  5.371255  11.843452  4.810572   \n",
       "GSM447782  10.266369  6.584705  10.149880  5.462203  11.636645  4.863805   \n",
       "GSM447783  11.517425  6.336898   9.712470  5.873331  11.452921  3.893979   \n",
       "GSM447784  11.963806  5.881100   9.836638  4.544681  12.135660  5.605158   \n",
       "GSM447786  12.407864  7.346544  10.485600  6.158914  12.140635  4.729529   \n",
       "\n",
       "              18         19        20        21     ...     45200      45201  \\\n",
       "GSM447781  7.450713  14.397061  5.763549  4.984783  ...  5.252327  10.047690   \n",
       "GSM447782  7.495921  14.840463  5.832707  5.497416  ...  5.202092  10.436165   \n",
       "GSM447783  7.288172  14.405493  6.228280  4.320078  ...  6.325055   9.824410   \n",
       "GSM447784  7.279210  15.060383  5.757566  4.385994  ...  4.642562  10.524205   \n",
       "GSM447786  6.950945  14.660080  5.301891  4.351304  ...  5.733378   9.522212   \n",
       "\n",
       "              45202      45203     45204     45205      45206     45207  \\\n",
       "GSM447781  8.234652  13.762584  4.728840  6.430334   9.537699  2.745445   \n",
       "GSM447782  7.862535  13.666809  4.914479  8.071005  10.409059  3.043695   \n",
       "GSM447783  8.270700  13.628572  5.813508  7.943193   9.742599  5.692912   \n",
       "GSM447784  9.303061  13.481760  4.608364  6.823640  10.768028  2.447080   \n",
       "GSM447786  8.506282  14.262629  7.424536  7.967575   9.776831  3.795896   \n",
       "\n",
       "              45208      45209  \n",
       "GSM447781  2.735733   9.696610  \n",
       "GSM447782  2.825944   9.847350  \n",
       "GSM447783  5.057673   9.879107  \n",
       "GSM447784  2.593118  10.984354  \n",
       "GSM447786  4.468312   9.091121  \n",
       "\n",
       "[5 rows x 43376 columns]"
      ]
     },
     "execution_count": 4,
     "metadata": {},
     "output_type": "execute_result"
    }
   ],
   "source": [
    "dataOrg = pd.read_csv('GSE17924_series_matrix.txt',sep='\\t',index_col=0, skiprows=21)\n",
    "dataOrg = dataOrg.transpose()\n",
    "dataOrg = dataOrg[msk]\n",
    "dataOrg.head()"
   ]
  },
  {
   "cell_type": "code",
   "execution_count": 5,
   "metadata": {},
   "outputs": [],
   "source": [
    "annotations = pd.read_csv('GPL4133-12599.txt',sep='\\t',index_col=0, skiprows=22)\n",
    "annotations = annotations[\"GENE_NAME\"]\n",
    "annotations.dropna(inplace=True)"
   ]
  },
  {
   "cell_type": "markdown",
   "metadata": {},
   "source": [
    "#### Préparation des labels"
   ]
  },
  {
   "cell_type": "code",
   "execution_count": 6,
   "metadata": {
    "scrolled": false
   },
   "outputs": [],
   "source": [
    "label = label[msk]\n",
    "label = label.replace(\"severity: DF\", 0)\n",
    "label = label.replace(\"severity: DSS\", 1)\n",
    "label = pd.DataFrame(label, dtype=\"int\")"
   ]
  },
  {
   "cell_type": "markdown",
   "metadata": {},
   "source": [
    "## Question 2-a : Calcul et visualisation de la moyenne et de la variance, puis réduction des données"
   ]
  },
  {
   "cell_type": "code",
   "execution_count": 7,
   "metadata": {},
   "outputs": [],
   "source": [
    "dataOrg.loc['mean',:] = dataOrg.mean()"
   ]
  },
  {
   "cell_type": "code",
   "execution_count": 8,
   "metadata": {},
   "outputs": [],
   "source": [
    "dataOrg.loc['var',:] = dataOrg.var()"
   ]
  },
  {
   "cell_type": "code",
   "execution_count": 9,
   "metadata": {},
   "outputs": [
    {
     "data": {
      "text/html": [
       "<div>\n",
       "<style scoped>\n",
       "    .dataframe tbody tr th:only-of-type {\n",
       "        vertical-align: middle;\n",
       "    }\n",
       "\n",
       "    .dataframe tbody tr th {\n",
       "        vertical-align: top;\n",
       "    }\n",
       "\n",
       "    .dataframe thead th {\n",
       "        text-align: right;\n",
       "    }\n",
       "</style>\n",
       "<table border=\"1\" class=\"dataframe\">\n",
       "  <thead>\n",
       "    <tr style=\"text-align: right;\">\n",
       "      <th></th>\n",
       "      <th>12</th>\n",
       "      <th>13</th>\n",
       "      <th>14</th>\n",
       "      <th>15</th>\n",
       "      <th>16</th>\n",
       "      <th>17</th>\n",
       "      <th>18</th>\n",
       "      <th>19</th>\n",
       "      <th>20</th>\n",
       "      <th>21</th>\n",
       "      <th>...</th>\n",
       "      <th>45200</th>\n",
       "      <th>45201</th>\n",
       "      <th>45202</th>\n",
       "      <th>45203</th>\n",
       "      <th>45204</th>\n",
       "      <th>45205</th>\n",
       "      <th>45206</th>\n",
       "      <th>45207</th>\n",
       "      <th>45208</th>\n",
       "      <th>45209</th>\n",
       "    </tr>\n",
       "  </thead>\n",
       "  <tbody>\n",
       "    <tr>\n",
       "      <td>mean</td>\n",
       "      <td>12.025593</td>\n",
       "      <td>6.692013</td>\n",
       "      <td>10.198048</td>\n",
       "      <td>5.421742</td>\n",
       "      <td>12.019067</td>\n",
       "      <td>4.710428</td>\n",
       "      <td>7.314017</td>\n",
       "      <td>14.497992</td>\n",
       "      <td>5.659526</td>\n",
       "      <td>4.277186</td>\n",
       "      <td>...</td>\n",
       "      <td>5.536861</td>\n",
       "      <td>10.054220</td>\n",
       "      <td>8.443321</td>\n",
       "      <td>13.679740</td>\n",
       "      <td>5.658202</td>\n",
       "      <td>7.665657</td>\n",
       "      <td>10.133459</td>\n",
       "      <td>3.057689</td>\n",
       "      <td>3.061138</td>\n",
       "      <td>9.598928</td>\n",
       "    </tr>\n",
       "    <tr>\n",
       "      <td>var</td>\n",
       "      <td>0.527839</td>\n",
       "      <td>0.207675</td>\n",
       "      <td>0.145429</td>\n",
       "      <td>0.329876</td>\n",
       "      <td>0.182844</td>\n",
       "      <td>0.891690</td>\n",
       "      <td>0.056523</td>\n",
       "      <td>0.463350</td>\n",
       "      <td>0.693058</td>\n",
       "      <td>1.174477</td>\n",
       "      <td>...</td>\n",
       "      <td>0.185226</td>\n",
       "      <td>0.341027</td>\n",
       "      <td>0.131834</td>\n",
       "      <td>0.160057</td>\n",
       "      <td>0.694103</td>\n",
       "      <td>0.343572</td>\n",
       "      <td>0.430101</td>\n",
       "      <td>0.655900</td>\n",
       "      <td>0.662575</td>\n",
       "      <td>0.589078</td>\n",
       "    </tr>\n",
       "  </tbody>\n",
       "</table>\n",
       "<p>2 rows × 43376 columns</p>\n",
       "</div>"
      ],
      "text/plain": [
       "          12        13         14        15         16        17        18     \\\n",
       "mean  12.025593  6.692013  10.198048  5.421742  12.019067  4.710428  7.314017   \n",
       "var    0.527839  0.207675   0.145429  0.329876   0.182844  0.891690  0.056523   \n",
       "\n",
       "          19        20        21     ...     45200      45201     45202  \\\n",
       "mean  14.497992  5.659526  4.277186  ...  5.536861  10.054220  8.443321   \n",
       "var    0.463350  0.693058  1.174477  ...  0.185226   0.341027  0.131834   \n",
       "\n",
       "          45203     45204     45205      45206     45207     45208     45209  \n",
       "mean  13.679740  5.658202  7.665657  10.133459  3.057689  3.061138  9.598928  \n",
       "var    0.160057  0.694103  0.343572   0.430101  0.655900  0.662575  0.589078  \n",
       "\n",
       "[2 rows x 43376 columns]"
      ]
     },
     "execution_count": 9,
     "metadata": {},
     "output_type": "execute_result"
    }
   ],
   "source": [
    "dataOrg.tail(2)"
   ]
  },
  {
   "cell_type": "code",
   "execution_count": 10,
   "metadata": {},
   "outputs": [
    {
     "data": {
      "image/png": "[encoded data removed]",
      "text/plain": [
       "<Figure size 1152x432 with 1 Axes>"
      ]
     },
     "metadata": {
      "needs_background": "light"
     },
     "output_type": "display_data"
    }
   ],
   "source": [
    "plt.figure(figsize=(16,6))\n",
    "dataOrg.loc['mean',:].hist()\n",
    "plt.show()"
   ]
  },
  {
   "cell_type": "code",
   "execution_count": 11,
   "metadata": {},
   "outputs": [
    {
     "data": {
      "image/png": "[encoded data removed]",
      "text/plain": [
       "<Figure size 1152x432 with 1 Axes>"
      ]
     },
     "metadata": {
      "needs_background": "light"
     },
     "output_type": "display_data"
    }
   ],
   "source": [
    "plt.figure(figsize=(16,6))\n",
    "dataOrg.loc['var',:].hist()\n",
    "plt.show()"
   ]
  },
  {
   "cell_type": "code",
   "execution_count": 12,
   "metadata": {},
   "outputs": [],
   "source": [
    "S = dataOrg.loc['mean',:]>3"
   ]
  },
  {
   "cell_type": "code",
   "execution_count": 13,
   "metadata": {},
   "outputs": [],
   "source": [
    "T = dataOrg.loc['var',:]>2"
   ]
  },
  {
   "cell_type": "code",
   "execution_count": 14,
   "metadata": {},
   "outputs": [],
   "source": [
    "dataOrg = dataOrg.loc[:,S]\n",
    "dataOrg = dataOrg.loc[:,T]"
   ]
  },
  {
   "cell_type": "markdown",
   "metadata": {},
   "source": [
    "## Question 3  : Selection des classifiers"
   ]
  },
  {
   "cell_type": "markdown",
   "metadata": {},
   "source": [
    "### On décide de choisir 8 principaux classifieurs :\n",
    "<ol>\n",
    "    <li>Arbres de décision</li>\n",
    "    <li>Boosting</li>\n",
    "    <li>Forêts aléatoires</li>\n",
    "    <li>Regression logistique</li>\n",
    "    <li>SVM linéaire</li>\n",
    "    <li>SVM gaussien</li>\n",
    "    <li>kNN</li>\n",
    "    <li>Vote majoritaire</li>\n",
    "    </ol>"
   ]
  },
  {
   "cell_type": "code",
   "execution_count": 15,
   "metadata": {},
   "outputs": [],
   "source": [
    "y = label[\"severity\"]\n",
    "X = dataOrg[:35]"
   ]
  },
  {
   "cell_type": "markdown",
   "metadata": {},
   "source": [
    "### 1- Decision Tree"
   ]
  },
  {
   "cell_type": "code",
   "execution_count": 16,
   "metadata": {},
   "outputs": [
    {
     "data": {
      "text/plain": [
       "DecisionTreeClassifier(class_weight=None, criterion='gini', max_depth=None,\n",
       "                       max_features=None, max_leaf_nodes=None,\n",
       "                       min_impurity_decrease=0.0, min_impurity_split=None,\n",
       "                       min_samples_leaf=1, min_samples_split=2,\n",
       "                       min_weight_fraction_leaf=0.0, presort=False,\n",
       "                       random_state=0, splitter='best')"
      ]
     },
     "execution_count": 16,
     "metadata": {},
     "output_type": "execute_result"
    }
   ],
   "source": [
    "from sklearn.tree import DecisionTreeClassifier\n",
    "dec_trees = DecisionTreeClassifier(random_state=0)\n",
    "dec_trees.fit(X, y)"
   ]
  },
  {
   "cell_type": "markdown",
   "metadata": {},
   "source": [
    "### 2- Boosting"
   ]
  },
  {
   "cell_type": "code",
   "execution_count": 17,
   "metadata": {},
   "outputs": [
    {
     "data": {
      "text/plain": [
       "GradientBoostingClassifier(criterion='friedman_mse', init=None,\n",
       "                           learning_rate=1.0, loss='deviance', max_depth=1,\n",
       "                           max_features=None, max_leaf_nodes=None,\n",
       "                           min_impurity_decrease=0.0, min_impurity_split=None,\n",
       "                           min_samples_leaf=1, min_samples_split=2,\n",
       "                           min_weight_fraction_leaf=0.0, n_estimators=100,\n",
       "                           n_iter_no_change=None, presort='auto',\n",
       "                           random_state=0, subsample=1.0, tol=0.0001,\n",
       "                           validation_fraction=0.1, verbose=0,\n",
       "                           warm_start=False)"
      ]
     },
     "execution_count": 17,
     "metadata": {},
     "output_type": "execute_result"
    }
   ],
   "source": [
    "from sklearn.ensemble import GradientBoostingClassifier\n",
    "boosting = GradientBoostingClassifier(n_estimators=100, learning_rate=1.0, max_depth=1, random_state=0)\n",
    "boosting.fit(X, y)"
   ]
  },
  {
   "cell_type": "markdown",
   "metadata": {},
   "source": [
    "### 3- Random Forests"
   ]
  },
  {
   "cell_type": "code",
   "execution_count": 18,
   "metadata": {},
   "outputs": [
    {
     "data": {
      "text/plain": [
       "RandomForestClassifier(bootstrap=True, class_weight=None, criterion='gini',\n",
       "                       max_depth=2, max_features='auto', max_leaf_nodes=None,\n",
       "                       min_impurity_decrease=0.0, min_impurity_split=None,\n",
       "                       min_samples_leaf=1, min_samples_split=2,\n",
       "                       min_weight_fraction_leaf=0.0, n_estimators=100,\n",
       "                       n_jobs=None, oob_score=False, random_state=0, verbose=0,\n",
       "                       warm_start=False)"
      ]
     },
     "execution_count": 18,
     "metadata": {},
     "output_type": "execute_result"
    }
   ],
   "source": [
    "from sklearn.ensemble import RandomForestClassifier\n",
    "random_forests = RandomForestClassifier(n_estimators=100, max_depth=2, random_state=0)\n",
    "random_forests.fit(X, y)"
   ]
  },
  {
   "cell_type": "markdown",
   "metadata": {},
   "source": [
    "### 4- Logistic regression"
   ]
  },
  {
   "cell_type": "code",
   "execution_count": 19,
   "metadata": {},
   "outputs": [
    {
     "data": {
      "text/plain": [
       "LogisticRegression(C=1.0, class_weight=None, dual=False, fit_intercept=True,\n",
       "                   intercept_scaling=1, l1_ratio=None, max_iter=100,\n",
       "                   multi_class='multinomial', n_jobs=None, penalty='l2',\n",
       "                   random_state=0, solver='lbfgs', tol=0.0001, verbose=0,\n",
       "                   warm_start=False)"
      ]
     },
     "execution_count": 19,
     "metadata": {},
     "output_type": "execute_result"
    }
   ],
   "source": [
    "from sklearn.linear_model import LogisticRegression\n",
    "log_reg = LogisticRegression(random_state=0, solver='lbfgs', multi_class='multinomial')\n",
    "log_reg.fit(X, y)"
   ]
  },
  {
   "cell_type": "markdown",
   "metadata": {},
   "source": [
    "### 5- SVM without Kernel (linear SVM)"
   ]
  },
  {
   "cell_type": "code",
   "execution_count": 20,
   "metadata": {},
   "outputs": [
    {
     "data": {
      "text/plain": [
       "SVC(C=1.0, cache_size=200, class_weight=None, coef0=0.0,\n",
       "    decision_function_shape='ovr', degree=3, gamma='auto', kernel='linear',\n",
       "    max_iter=-1, probability=True, random_state=None, shrinking=True, tol=0.001,\n",
       "    verbose=False)"
      ]
     },
     "execution_count": 20,
     "metadata": {},
     "output_type": "execute_result"
    }
   ],
   "source": [
    "from sklearn.svm import SVC\n",
    "svm_no_kernel = SVC(kernel='linear', gamma='auto', probability=True)\n",
    "svm_no_kernel.fit(X, y)"
   ]
  },
  {
   "cell_type": "markdown",
   "metadata": {},
   "source": [
    "### 6- SVM with Gaussian Kernel"
   ]
  },
  {
   "cell_type": "code",
   "execution_count": 21,
   "metadata": {},
   "outputs": [
    {
     "data": {
      "text/plain": [
       "SVC(C=1.0, cache_size=200, class_weight=None, coef0=0.0,\n",
       "    decision_function_shape='ovr', degree=3, gamma='auto', kernel='rbf',\n",
       "    max_iter=-1, probability=True, random_state=None, shrinking=True, tol=0.001,\n",
       "    verbose=False)"
      ]
     },
     "execution_count": 21,
     "metadata": {},
     "output_type": "execute_result"
    }
   ],
   "source": [
    "from sklearn.svm import SVC\n",
    "svm_with_kernel = SVC(gamma='auto', probability=True)\n",
    "svm_with_kernel.fit(X, y)"
   ]
  },
  {
   "cell_type": "markdown",
   "metadata": {},
   "source": [
    "### 7- kNN"
   ]
  },
  {
   "cell_type": "code",
   "execution_count": 22,
   "metadata": {},
   "outputs": [
    {
     "data": {
      "text/plain": [
       "KNeighborsClassifier(algorithm='auto', leaf_size=30, metric='minkowski',\n",
       "                     metric_params=None, n_jobs=None, n_neighbors=3, p=2,\n",
       "                     weights='uniform')"
      ]
     },
     "execution_count": 22,
     "metadata": {},
     "output_type": "execute_result"
    }
   ],
   "source": [
    "from sklearn.neighbors import KNeighborsClassifier\n",
    "neigh = KNeighborsClassifier(n_neighbors=3)\n",
    "neigh.fit(X, y)"
   ]
  },
  {
   "cell_type": "markdown",
   "metadata": {},
   "source": [
    "### 8- qui donne pour résultat le vote majoritaire de l'ensemble de ces méthodes."
   ]
  },
  {
   "cell_type": "code",
   "execution_count": 23,
   "metadata": {},
   "outputs": [
    {
     "data": {
      "text/plain": [
       "VotingClassifier(estimators=[('treeclf',\n",
       "                              DecisionTreeClassifier(class_weight=None,\n",
       "                                                     criterion='gini',\n",
       "                                                     max_depth=None,\n",
       "                                                     max_features=None,\n",
       "                                                     max_leaf_nodes=None,\n",
       "                                                     min_impurity_decrease=0.0,\n",
       "                                                     min_impurity_split=None,\n",
       "                                                     min_samples_leaf=1,\n",
       "                                                     min_samples_split=2,\n",
       "                                                     min_weight_fraction_leaf=0.0,\n",
       "                                                     presort=False,\n",
       "                                                     random_state=0,\n",
       "                                                     splitter='best')),\n",
       "                             ('boosting',\n",
       "                              GradientBoostingClassi...\n",
       "                                                 l1_ratio=None, max_iter=100,\n",
       "                                                 multi_class='multinomial',\n",
       "                                                 n_jobs=None, penalty='l2',\n",
       "                                                 random_state=0, solver='lbfgs',\n",
       "                                                 tol=0.0001, verbose=0,\n",
       "                                                 warm_start=False)),\n",
       "                             ('knn',\n",
       "                              KNeighborsClassifier(algorithm='auto',\n",
       "                                                   leaf_size=30,\n",
       "                                                   metric='minkowski',\n",
       "                                                   metric_params=None,\n",
       "                                                   n_jobs=None, n_neighbors=3,\n",
       "                                                   p=2, weights='uniform'))],\n",
       "                 flatten_transform=True, n_jobs=None, voting='soft',\n",
       "                 weights=None)"
      ]
     },
     "execution_count": 23,
     "metadata": {},
     "output_type": "execute_result"
    }
   ],
   "source": [
    "from sklearn.ensemble import VotingClassifier\n",
    "voting = VotingClassifier(estimators = [('treeclf',dec_trees), \n",
    "                                        ('boosting',boosting), \n",
    "                                        ('randomforest',random_forests), \n",
    "                                        ('linearkernel', svm_no_kernel), \n",
    "                                        ('gaussiankernel',svm_with_kernel), \n",
    "                                        ('logisticregression',log_reg),\n",
    "                                        ('knn', neigh)],\n",
    "                          voting='soft')\n",
    "voting.fit(X,y)"
   ]
  },
  {
   "cell_type": "markdown",
   "metadata": {},
   "source": [
    "# 4-a Performance prédictive par validation croisée"
   ]
  },
  {
   "cell_type": "code",
   "execution_count": 24,
   "metadata": {},
   "outputs": [
    {
     "name": "stdout",
     "output_type": "stream",
     "text": [
      "MEAN SCORE of KNN   ==>>    0.8845238095238095\n",
      "MEAN SCORE of LogisticRegression   ==>>    0.8511904761904763\n",
      "MEAN SCORE of boosting   ==>>    0.8595238095238095\n",
      "MEAN SCORE of LinearKernel   ==>>    0.8511904761904763\n",
      "MEAN SCORE of GaussianKernel   ==>>    0.7404761904761904\n",
      "MEAN SCORE of treeclf   ==>>    0.8845238095238095\n",
      "MEAN SCORE of RandomForest   ==>>    0.9130952380952382\n",
      "MEAN SCORE of voting   ==>>    0.9130952380952382\n"
     ]
    }
   ],
   "source": [
    "from sklearn.model_selection import cross_val_score\n",
    "from sklearn.model_selection import LeaveOneOut\n",
    "from collections import defaultdict\n",
    "\n",
    "classifiers={'KNN':neigh,\n",
    "             'LogisticRegression':log_reg,\n",
    "             'boosting':boosting,             \n",
    "             'LinearKernel':svm_no_kernel,\n",
    "             'GaussianKernel':svm_with_kernel,\n",
    "             'treeclf':dec_trees,\n",
    "             'RandomForest':random_forests,\n",
    "             'voting':voting}\n",
    "loo=LeaveOneOut()\n",
    "score_dict=defaultdict(list)\n",
    "for name, classifier in classifiers.items():\n",
    "    score_dict[name].append(cross_val_score(classifier,X, y,cv=5))\n",
    "    print(\"MEAN SCORE of \" +str(name) + \"   ==>>    \" + str(score_dict[name][0].mean()))"
   ]
  },
  {
   "cell_type": "markdown",
   "metadata": {},
   "source": [
    " ### Conclusion : \n",
    " #### ce sont les méthodes \"par vote majoritaire\" et \"fôrets aléatoires\" qui donnent les meilleurs prédictions avec un score de 91.30%."
   ]
  },
  {
   "cell_type": "markdown",
   "metadata": {},
   "source": [
    "# 4-b Performance prédictive par la courbe AUC"
   ]
  },
  {
   "cell_type": "code",
   "execution_count": 25,
   "metadata": {},
   "outputs": [],
   "source": [
    "def ConfInterAUC(auc,z_halfAlpha, dfphenotypes):\n",
    "    ncases=dfphenotypes.sum()\n",
    "    ncontroles=len(dfphenotypes)-ncases\n",
    "    z=z_halfAlpha\n",
    "    qcontroles=auc/(2-auc)\n",
    "    qcases=2*pow(auc,2)/(1+auc)\n",
    "    SE_auc=np.sqrt((auc*(1-auc)+(ncontroles-1)*(qcontroles-pow(auc,2))+(ncases-1)*(qcases-pow(auc,2)))/(ncases*ncontroles))\n",
    "    CI_auc=z*SE_auc\n",
    "    return(CI_auc)"
   ]
  },
  {
   "cell_type": "markdown",
   "metadata": {},
   "source": [
    "### Calcul et affichage de la courbe AUC"
   ]
  },
  {
   "cell_type": "code",
   "execution_count": 26,
   "metadata": {},
   "outputs": [
    {
     "name": "stdout",
     "output_type": "stream",
     "text": [
      "Confident interval under ROC curve for KNN ==>>   [0.7159687062527587 , 0.9846891884840834]\n",
      "Confident interval under ROC curve for LogisticRegression ==>>   [0.8164885776957883 , 1]\n",
      "Confident interval under ROC curve for boosting ==>>   [0.8718494656836703 , 1]\n",
      "Confident interval under ROC curve for LinearKernel ==>>   [0.8112547810475984 , 1]\n",
      "Confident interval under ROC curve for GaussianKernel ==>>   [0.3586592778164106 , 0.7466038800783261]\n",
      "Confident interval under ROC curve for treeclf ==>>   [0.6773961049649895 , 0.9673407371402736]\n",
      "Confident interval under ROC curve for RandomForest ==>>   [0.8270944791635958 , 1]\n",
      "Confident interval under ROC curve for voting ==>>   [0.8009141294091564 , 1]\n"
     ]
    },
    {
     "data": {
      "text/plain": [
       "Text(0, 0.5, 'True Positive Rate')"
      ]
     },
     "execution_count": 26,
     "metadata": {},
     "output_type": "execute_result"
    },
    {
     "data": {
      "image/png": "[encoded data removed]",
      "text/plain": [
       "<Figure size 1296x576 with 1 Axes>"
      ]
     },
     "metadata": {
      "needs_background": "light"
     },
     "output_type": "display_data"
    }
   ],
   "source": [
    "from sklearn.metrics import roc_curve\n",
    "from sklearn.metrics import roc_auc_score\n",
    "\n",
    "proba_dict=defaultdict(list)\n",
    "plt.figure(figsize = (18,8))\n",
    "\n",
    "for train_index, test_index in loo.split(X):\n",
    "    X_train,X_test = pd.DataFrame(X.iloc[train_index,:]),pd.DataFrame(X.iloc[test_index,:])\n",
    "    Y_train,Y_test = pd.DataFrame(y[train_index]).astype(int),pd.DataFrame(y[test_index]).astype(int)\n",
    "    for name,classifier in classifiers.items():\n",
    "        classifier.fit(X_train,np.asarray(Y_train).ravel())\n",
    "        Y_pred_proba = classifier.predict_proba(X_test)\n",
    "        proba_dict[name].append(Y_pred_proba[0][1])\n",
    "        \n",
    "plt.plot([0,1],[0,1],'r--')\n",
    "plt.title('ROC')\n",
    "for name, classifier in classifiers.items():\n",
    "    fpr , tpr , thresolds = roc_curve(y,proba_dict[name])\n",
    "    plt.plot(fpr,tpr,label = f\"{name}\")\n",
    "    auc = roc_auc_score(y,proba_dict[name])\n",
    "    demiIntervalle = ConfInterAUC(auc,1.96,y)\n",
    "    print(\"Confident interval under ROC curve for \" + str(name) +\" ==>>   [\" +str(max(0,auc - demiIntervalle)) + \" , \" +str(min(1,auc + demiIntervalle)) + \"]\" )\n",
    "\n",
    "plt.legend()\n",
    "plt.xlabel(\"False Positive Rate\")\n",
    "plt.ylabel(\"True Positive Rate\")"
   ]
  },
  {
   "cell_type": "markdown",
   "metadata": {},
   "source": [
    " ### Conclusion : \n",
    " #### c'est la méthode \"BOOSTING\" qui donne la meilleure intervalle de confiance pour l'aire sous la corbe ROC avec [0.87 , 1.00]"
   ]
  },
  {
   "cell_type": "markdown",
   "metadata": {},
   "source": [
    "# 4- c \n",
    "### - L'intervalle de d'incertitude calculé : décrit la probablité que l'aire sous la courbe ROC soit dans l'intervalle est supérieure à 95%.\n",
    "### - La courbe ROC décrivant le taux de vrais positifs en fonction du taux de faux positifs, on déduit qu'elle ne tient pas compte des faux positifs et des faux négatifs. Ce n'est pas forcément rassurant quant à la robustesse, on pourrait penser que le calcul du SCORE F1 est plus robuste."
   ]
  },
  {
   "cell_type": "markdown",
   "metadata": {},
   "source": [
    "# 5- Comparaison des modèles"
   ]
  },
  {
   "cell_type": "markdown",
   "metadata": {},
   "source": [
    "#### Feature max pour les forets aléatoires"
   ]
  },
  {
   "cell_type": "code",
   "execution_count": 27,
   "metadata": {},
   "outputs": [
    {
     "data": {
      "text/plain": [
       "9308"
      ]
     },
     "execution_count": 27,
     "metadata": {},
     "output_type": "execute_result"
    }
   ],
   "source": [
    "k = np.argmax(random_forests.feature_importances_)\n",
    "X.transpose()[k:k+1].index[0]"
   ]
  },
  {
   "cell_type": "markdown",
   "metadata": {},
   "source": [
    "#### Feature max pour la régression logistique"
   ]
  },
  {
   "cell_type": "code",
   "execution_count": 28,
   "metadata": {},
   "outputs": [
    {
     "data": {
      "text/plain": [
       "22449"
      ]
     },
     "execution_count": 28,
     "metadata": {},
     "output_type": "execute_result"
    }
   ],
   "source": [
    "k = np.argmax(log_reg.coef_)\n",
    "X.transpose()[k:k+1].index[0]"
   ]
  },
  {
   "cell_type": "markdown",
   "metadata": {},
   "source": [
    "#### Parameters for SVM with linear kernel"
   ]
  },
  {
   "cell_type": "code",
   "execution_count": 29,
   "metadata": {},
   "outputs": [
    {
     "data": {
      "text/plain": [
       "26"
      ]
     },
     "execution_count": 29,
     "metadata": {},
     "output_type": "execute_result"
    }
   ],
   "source": [
    "len(svm_no_kernel.support_)"
   ]
  },
  {
   "cell_type": "markdown",
   "metadata": {},
   "source": [
    "#### Parameters for SVM with gaussian kernel"
   ]
  },
  {
   "cell_type": "code",
   "execution_count": 30,
   "metadata": {},
   "outputs": [
    {
     "data": {
      "text/plain": [
       "34"
      ]
     },
     "execution_count": 30,
     "metadata": {},
     "output_type": "execute_result"
    }
   ],
   "source": [
    "len(svm_with_kernel.support_)"
   ]
  },
  {
   "cell_type": "markdown",
   "metadata": {},
   "source": [
    "<ol>\n",
    "    <li>Arbres de décision</li>\n",
    "    <li>Boosting</li>\n",
    "    Avec une précision de 86% environ et un AUC dans [0.8718494656836703 , 1], boosting donne des résultats très intéressants, mais il serait difficile de les interpreter à cause de la manière dont la méthode est théoriquement construite.\n",
    "    <li>Forêts aléatoires</li>\n",
    "    En termes de précisions, 91% est la meilleure performance obenue et l'AUC min n'est pas mal. On constate aussi que le transcrit le plus important lors de la classification est celui à l'index 9308.\n",
    "    <li>Regression logistique</li>\n",
    "    La précision et l'AUC min de la régression logistique sont assez bonnes ici, à chaque fois supérieure à 0.80. On constate aussi que le transcrit le plus important lors de la classification est celui à l'index 22449.\n",
    "    <li>SVM linéaire</li>\n",
    "    La précision et l'AUC min de la régression logistique sont assez bonnes comme ceux de la régression logistique. On constat en plus qu'on a 26 vecteurs supports à la fin sur les 35 du départ, ce n'est pas très grand, mais vu la taille de notre échantillon (35), 26 reste un valeur intéressante.\n",
    "    <li>SVM gaussien</li>\n",
    "    La précision et l'AUC sont les moins bons parmi les 8 classifieurs implémentés. On constate de plus qu'il y a 34 vecteurs supports sur les 35 possibles. L'utilisation du noyau gaussien ici est très insatisfaisante.\n",
    "    <li>kNN</li>\n",
    "    Le nombre de voisin optimal est 3. C'est une méthode assez intuitive qui donne de bons résultats en général.\n",
    "    <li>Vote majoritaire</li>\n",
    "    Le vote majoritaire donne des résultats très proches des forêts aléatoires, ce qui s'explique par la plupart des méthodes étudiées ont des précisions proches de 80%. Et que le vote majoritaire moyenne avec les mêmes poids les autres méthodes.\n",
    "    </ol>"
   ]
  },
  {
   "cell_type": "markdown",
   "metadata": {},
   "source": [
    " # 5 - Comparaison des classifiers"
   ]
  },
  {
   "cell_type": "markdown",
   "metadata": {},
   "source": [
    "### - Leav-one-out :\n",
    "C'est une méthode de validation qui consiste à diviser un échantillon N de données en N sous-échantillons tels que pour chaque sous-échantillon i dans N, on a N-1 données d'apprentissage et 1 donnée de test.\n",
    "\n",
    "### - Avantages par rapport à k-fold cross validation pour les petis échantillons\n",
    "#### 1 - Parce qu'il n y a pas de variance\n",
    "#### 2 - Permet de faire plus de tests de validation du modèle car en prenant k-fold, on aurait que ${N}\\choose{k}$ $ < N$, cela assure la robustesse du test de validation.\n"
   ]
  },
  {
   "cell_type": "markdown",
   "metadata": {},
   "source": [
    "<h2><center><font color=darkorange> Fin du TP </font></center></h2>"
   ]
  }
 ],
 "metadata": {
  "kernelspec": {
   "display_name": "Python 3",
   "language": "python",
   "name": "python3"
  },
  "language_info": {
   "codemirror_mode": {
    "name": "ipython",
    "version": 3
   },
   "file_extension": ".py",
   "mimetype": "text/x-python",
   "name": "python",
   "nbconvert_exporter": "python",
   "pygments_lexer": "ipython3",
   "version": "3.7.4"
  }
 },
 "nbformat": 4,
 "nbformat_minor": 2
}
