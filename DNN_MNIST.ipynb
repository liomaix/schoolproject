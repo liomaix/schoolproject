{
 "cells": [
  {
   "cell_type": "markdown",
   "metadata": {},
   "source": [
    "<h1><center><font color=darkcyan>  DEEP NEURAL NETWORKS </font></center></h1>\n",
    "\n",
    "<h2><center><font color=darkorange> Travaux Pratiques</font></center></h2>\n",
    "\n",
    "<lu>\n",
    "    <li><font color=darkblue> SOPGOUI MBEUKAM Lionel</font></li>\n",
    "</lu>\n",
    "<hr>"
   ]
  },
  {
   "cell_type": "code",
   "execution_count": 1,
   "metadata": {},
   "outputs": [],
   "source": [
    "import numpy as np\n",
    "from datetime import datetime\n",
    "import scipy.io\n",
    "from numpy.random import uniform\n",
    "import matplotlib.pyplot as plt\n",
    "from time import time\n",
    "from torch.utils.data import DataLoader, Dataset, TensorDataset\n",
    "from torch.utils.data import DataLoader, Sampler\n",
    "import torchvision\n",
    "%matplotlib notebook\n",
    "from scipy.io import loadmat\n",
    "import warnings\n",
    "warnings.filterwarnings(\"ignore\")"
   ]
  },
  {
   "cell_type": "markdown",
   "metadata": {},
   "source": [
    "## _Construction d'un RBM et Test sur Binary AlphaDigits_"
   ]
  },
  {
   "cell_type": "code",
   "execution_count": 2,
   "metadata": {},
   "outputs": [],
   "source": [
    "def sigmoide(x):    \n",
    "    return 1 / (1 + np.exp(x))"
   ]
  },
  {
   "cell_type": "code",
   "execution_count": 3,
   "metadata": {},
   "outputs": [],
   "source": [
    "class RBM:\n",
    "    # Lire la base Binary Alpha Digits\n",
    "    def read_alpha_digits(self, file, i):\n",
    "        x = loadmat(\"binaryalphadigs.mat\")\n",
    "        datas = x['dat']\n",
    "        data = np.array([[im.ravel() for im in datas[i]] for i in range(len(datas))])\n",
    "        data = data.reshape(-1,320).T\n",
    "        labels = x['classlabels'][0].T\n",
    "        label = np.array([[labels[i][0] for im in data[i]] for i in range(len(labels))])\n",
    "        label = label.reshape(-1,1404)\n",
    "        exemple = np.array([im.ravel() for im in datas[i]]).T\n",
    "\n",
    "        return np.array(data), np.array(label), exemple\n",
    "\n",
    "    #Initialiser le RBM p for visible, q for hidden\n",
    "    def init_RBM(self,p,q,batch_size,learning_rate,epochs):\n",
    "        self.p = p\n",
    "        self.q = q\n",
    "        self.a = np.zeros((q,1))\n",
    "        self.b = np.zeros((p,1))\n",
    "        self.W = np.random.normal(0,0.1,(p,q))\n",
    "        self.learning_rate = learning_rate / batch_size\n",
    "        self.batch_size = batch_size\n",
    "        self.epochs = epochs \n",
    "        return self\n",
    "    \n",
    "    def entree_sortie_RBM(self, entree):\n",
    "        #returns a (hidden_size,batch_size) vector\n",
    "        exp = (self.W.T @ entree) + self.a\n",
    "        return 1 / (1 + np.exp(-exp))\n",
    "    \n",
    "    def sortie_entree_RBM(self, sortie):\n",
    "        #returns a (visible_size,batch_size) vector\n",
    "        exp = (self.W @ sortie) + self.b\n",
    "        return 1 / (1 + np.exp(-exp))\n",
    "    \n",
    "    def echantillonnage(self,batch):\n",
    "        batch_size = batch.shape[1]\n",
    "        h_0 = np.random.binomial(1,self.entree_sortie_RBM(batch))\n",
    "        v_1 = np.random.binomial(1,self.sortie_entree_RBM(h_0))\n",
    "        h_1 = np.random.binomial(1,self.entree_sortie_RBM(v_1))\n",
    "        return v_1,h_1\n",
    "    \n",
    "    def descente_gradient(self,batch):\n",
    "        v_0 = batch\n",
    "        v_1,h_1 = self.echantillonnage(batch)\n",
    "        pr_h_v0 = self.entree_sortie_RBM(v_0)\n",
    "        dW = batch.T[...,None]*pr_h_v0.T[:,None,:] - v_1.T[...,None]*h_1.T[:,None,:]\n",
    "        da = pr_h_v0 - h_1\n",
    "        db = v_0 - v_1\n",
    "        return [dW,db,da]\n",
    "    \n",
    "    def erreur(self,donnees):\n",
    "        h = self.entree_sortie_RBM(donnees)\n",
    "        v = self.sortie_entree_RBM(h)\n",
    "        return np.linalg.norm(v - donnees) / donnees.shape[1]\n",
    "    \n",
    "    def train_RBM(self,donnees):\n",
    "        print(\"== > TRAIN RBM <==\")\n",
    "        for i in range(self.epochs):\n",
    "            #print(f\"epoch {i+1} / {self.epochs} : EQM {self.erreur(donnees)}\")\n",
    "            #sample indexes for batch gradient\n",
    "            indexes = np.random.permutation(donnees.shape[1])\n",
    "            batches = [donnees[:,indexes[i:i+self.batch_size]] \n",
    "                       for i in range(0,len(indexes),self.batch_size)]\n",
    "            for batch in batches: \n",
    "                grad = self.descente_gradient(batch)\n",
    "                dW = np.sum(grad[0],axis = 0)\n",
    "                db = np.sum(grad[1],axis = 1).reshape(-1,1)\n",
    "                da = np.sum(grad[2],axis = 1).reshape(-1,1)\n",
    "                #update step\n",
    "                self.W += self.learning_rate * dW\n",
    "                self.b += self.learning_rate * db\n",
    "                self.a += self.learning_rate * da\n",
    "        print(\"== > FIN TRAIN RBM <==\")\n",
    "        return self\n",
    "    \n",
    "    \n",
    "    def generer_image_RBM(self,p, nb_img, nb_itergibbs):\n",
    "        v = np.random.binomial(1,0.5,(p, nb_img))\n",
    "        for i in range(nb_itergibbs):\n",
    "            h = np.random.binomial(1,self.entree_sortie_RBM(v))\n",
    "            v = np.random.binomial(1,self.sortie_entree_RBM(h))\n",
    "        return v.T"
   ]
  },
  {
   "cell_type": "code",
   "execution_count": 4,
   "metadata": {},
   "outputs": [
    {
     "name": "stdout",
     "output_type": "stream",
     "text": [
      "== > TRAIN RBM <==\n",
      "== > FIN TRAIN RBM <==\n"
     ]
    },
    {
     "data": {
      "text/plain": [
       "<Figure size 432x288 with 0 Axes>"
      ]
     },
     "metadata": {},
     "output_type": "display_data"
    },
    {
     "data": {
      "text/plain": [
       "<Figure size 432x288 with 0 Axes>"
      ]
     },
     "metadata": {},
     "output_type": "display_data"
    }
   ],
   "source": [
    "def principal_RBM_alpha():\n",
    "    rbm = RBM()\n",
    "    rbm = rbm.init_RBM(320,200,10,0.1,100)\n",
    "    data, label, exemple = rbm.read_alpha_digits(\"binaryalphadigs.mat\", 11)\n",
    "    plt.figure()\n",
    "    i = 30\n",
    "    rbm = rbm.train_RBM(data[:,39*i:39*(i+1)])\n",
    "    gen = rbm.generer_image_RBM(320,4, 2000)\n",
    "    plt.figure()\n",
    "    #plt.imshow(gen[0].reshape(20,16), cmap = 'summer')\n",
    "    #plt.imshow(data[:,1].reshape(20,16), cmap = 'gray')\n",
    "    return rbm, data, label, gen\n",
    "rbm, data, label, gen = principal_RBM_alpha()"
   ]
  },
  {
   "cell_type": "code",
   "execution_count": 5,
   "metadata": {},
   "outputs": [
    {
     "data": {
      "image/png": "[encoded data removed]",
      "text/plain": [
       "<Figure size 432x288 with 1 Axes>"
      ]
     },
     "metadata": {
      "needs_background": "light"
     },
     "output_type": "display_data"
    },
    {
     "data": {
      "image/png": "[encoded data removed]",
      "text/plain": [
       "<Figure size 432x288 with 1 Axes>"
      ]
     },
     "metadata": {
      "needs_background": "light"
     },
     "output_type": "display_data"
    },
    {
     "data": {
      "image/png": "[encoded data removed]",
      "text/plain": [
       "<Figure size 432x288 with 1 Axes>"
      ]
     },
     "metadata": {
      "needs_background": "light"
     },
     "output_type": "display_data"
    },
    {
     "data": {
      "image/png": "[encoded data removed]",
      "text/plain": [
       "<Figure size 432x288 with 1 Axes>"
      ]
     },
     "metadata": {
      "needs_background": "light"
     },
     "output_type": "display_data"
    }
   ],
   "source": [
    "for i in range(4):\n",
    "    plt.figure()\n",
    "    plt.imshow(gen[i].reshape(20,16), cmap = 'summer')"
   ]
  },
  {
   "cell_type": "markdown",
   "metadata": {},
   "source": [
    "## _Construction d'un DBM et Test sur Binary AlphaDigits_"
   ]
  },
  {
   "cell_type": "code",
   "execution_count": 6,
   "metadata": {},
   "outputs": [],
   "source": [
    "class DBN:\n",
    "    # Lire la base Binary Alpha Digits\n",
    "\n",
    "    #Initialiser le RBM\n",
    "    def init_DBN(self, layers_size, batch_size, learning_rate, epochs):\n",
    "        #n est le nombre de neuronnes par couches\n",
    "        self.L = len(layers_size)\n",
    "        \n",
    "        self.rbms = []\n",
    "        for i in range(0,self.L - 1):\n",
    "            rbm = RBM()\n",
    "            self.rbms.append(rbm.init_RBM(layers_size[i],layers_size[i+1],batch_size,learning_rate,epochs))\n",
    "        return self\n",
    "    \n",
    "    #Entrainement du DNN\n",
    "    def train_DBN(self, donnees):\n",
    "        x = np.copy(donnees).T\n",
    "        i = 1\n",
    "        print(\"== > TRAIN DBN <==\")\n",
    "        for rbm in self.rbms:\n",
    "            #print(f\" ==>> Couche n° {i}\")\n",
    "            print(rbm.a.shape, rbm.W.shape, rbm.b.shape)\n",
    "            rbm = rbm.train_RBM(x)\n",
    "            x = rbm.entree_sortie_RBM(x)\n",
    "            i = i+1\n",
    "        print(\"== > FIN <==\")\n",
    "        return self\n",
    "    \n",
    "    def generer_image_DBN(self,p, nb_img, nb_itergibbs):\n",
    "        v = np.random.binomial(1,0.5,(p, nb_img))\n",
    "        for i in range(nb_itergibbs):\n",
    "            for rbm in self.rbms:\n",
    "                v = np.random.binomial(1,rbm.entree_sortie_RBM(v))\n",
    "            for rbm in self.rbms[::-1]:\n",
    "                v = np.random.binomial(1,rbm.sortie_entree_RBM(v))\n",
    "        return v.T"
   ]
  },
  {
   "cell_type": "code",
   "execution_count": 7,
   "metadata": {},
   "outputs": [
    {
     "name": "stdout",
     "output_type": "stream",
     "text": [
      "== > TRAIN DBN <==\n",
      "(300, 1) (320, 300) (320, 1)\n",
      "== > TRAIN RBM <==\n",
      "== > FIN TRAIN RBM <==\n",
      "(200, 1) (300, 200) (300, 1)\n",
      "== > TRAIN RBM <==\n",
      "== > FIN TRAIN RBM <==\n",
      "(100, 1) (200, 100) (200, 1)\n",
      "== > TRAIN RBM <==\n",
      "== > FIN TRAIN RBM <==\n",
      "(36, 1) (100, 36) (100, 1)\n",
      "== > TRAIN RBM <==\n",
      "== > FIN TRAIN RBM <==\n",
      "== > FIN <==\n"
     ]
    },
    {
     "data": {
      "image/png": "[encoded data removed]",
      "text/plain": [
       "<Figure size 432x288 with 1 Axes>"
      ]
     },
     "metadata": {
      "needs_background": "light"
     },
     "output_type": "display_data"
    }
   ],
   "source": [
    "def principal_DBN_alpha():\n",
    "    dbn = DBN()\n",
    "    #data, label = dbn.read_alpha_digits(\"binaryalphadigs.mat\")\n",
    "    dbn = dbn.init_DBN([320,300,200,100, 36], 10, 0.1, 100)\n",
    "    i = 21\n",
    "    dbn = dbn.train_DBN(data[:,39*i:39*(i+1)].T)\n",
    "    gen = dbn.generer_image_DBN(320, 4, 2000)\n",
    "    plt.figure()\n",
    "    plt.imshow(gen[1].reshape(20,16), cmap = 'gray')\n",
    "    #plt.imshow(data[:,1].reshape(20,16), cmap = 'gray')\n",
    "    return dbn, gen\n",
    "\n",
    "dbn, gen = principal_DBN_alpha()"
   ]
  },
  {
   "cell_type": "code",
   "execution_count": 8,
   "metadata": {},
   "outputs": [
    {
     "data": {
      "image/png": "[encoded data removed]",
      "text/plain": [
       "<Figure size 432x288 with 1 Axes>"
      ]
     },
     "metadata": {
      "needs_background": "light"
     },
     "output_type": "display_data"
    },
    {
     "data": {
      "image/png": "[encoded data removed]",
      "text/plain": [
       "<Figure size 432x288 with 1 Axes>"
      ]
     },
     "metadata": {
      "needs_background": "light"
     },
     "output_type": "display_data"
    },
    {
     "data": {
      "image/png": "[encoded data removed]",
      "text/plain": [
       "<Figure size 432x288 with 1 Axes>"
      ]
     },
     "metadata": {
      "needs_background": "light"
     },
     "output_type": "display_data"
    },
    {
     "data": {
      "image/png": "[encoded data removed]",
      "text/plain": [
       "<Figure size 432x288 with 1 Axes>"
      ]
     },
     "metadata": {
      "needs_background": "light"
     },
     "output_type": "display_data"
    }
   ],
   "source": [
    "for i in range(4):\n",
    "    plt.figure()\n",
    "    plt.imshow(gen[i].reshape(20,16), cmap = 'summer')"
   ]
  },
  {
   "cell_type": "markdown",
   "metadata": {},
   "source": [
    "## _Construction d'un DNN et Test sur MINST_"
   ]
  },
  {
   "cell_type": "markdown",
   "metadata": {},
   "source": [
    "_Téléchargement et Chargement des données d'apprentissage et de test_"
   ]
  },
  {
   "cell_type": "code",
   "execution_count": 10,
   "metadata": {},
   "outputs": [],
   "source": [
    "dl = DataLoader(torchvision.datasets.MNIST('pfe', train=True, download=True),batch_size=30, shuffle=False)"
   ]
  },
  {
   "cell_type": "code",
   "execution_count": 11,
   "metadata": {},
   "outputs": [],
   "source": [
    "dltest = DataLoader(torchvision.datasets.MNIST('pfe', train=False, download=True),batch_size=30, shuffle=False)"
   ]
  },
  {
   "cell_type": "code",
   "execution_count": 12,
   "metadata": {},
   "outputs": [],
   "source": [
    "X_train = dl.dataset.data.reshape(-1,784).float()\n",
    "y_train = dl.dataset.targets\n",
    "\n",
    "X_test = dltest.dataset.data.reshape(-1,784).float()\n",
    "y_test = dltest.dataset.targets"
   ]
  },
  {
   "cell_type": "markdown",
   "metadata": {},
   "source": [
    "_Il s'agit ici de convertir le label y par un vecteur de taille 10 où toutes les valeurs sont à 0 sauf la valeur à la position y qui vaut 1_"
   ]
  },
  {
   "cell_type": "code",
   "execution_count": 13,
   "metadata": {},
   "outputs": [],
   "source": [
    "train_y = []\n",
    "for y in y_train:\n",
    "    vector = np.zeros((10,1))\n",
    "    vector[y] = 1\n",
    "    train_y.append(vector)\n",
    "    \n",
    "train_y = np.hstack(train_y)\n",
    "\n",
    "test_y = []\n",
    "for y in y_test:\n",
    "    vector = np.zeros((10,1))\n",
    "    vector[y] = 1\n",
    "    test_y.append(vector)   \n",
    "test_y = np.hstack(test_y)\n",
    "\n",
    "X_train = X_train.T.numpy()\n",
    "X_test  = X_test.T.numpy()"
   ]
  },
  {
   "cell_type": "code",
   "execution_count": 14,
   "metadata": {},
   "outputs": [],
   "source": [
    "X_train = (X_train > 0.5)\n",
    "test  = (X_test > 0.5)"
   ]
  },
  {
   "cell_type": "code",
   "execution_count": 22,
   "metadata": {},
   "outputs": [],
   "source": [
    "class DNN: \n",
    "    def __init__(self, couches_size, batch_size, lr, pre_train = False):\n",
    "        self.couches_size= couches_size\n",
    "        self.L = len(couches_size) - 1\n",
    "        self.W  = {i : np.random.normal(0,0.1,(next_couche,couche)) for (i,couche,next_couche) in\n",
    "                          zip(range(1,self.L+1),couches_size, couches_size[1:])}\n",
    "        self.biais = {i : np.zeros((couche,1)) \n",
    "                           for (i,couche) in zip(range(1,self.L+1),couches_size[1:])}\n",
    "        self.batch_size = batch_size\n",
    "        self.pre_train  = pre_train\n",
    "        self.lr = lr\n",
    "        \n",
    "    def calcul_softmax(self, x):\n",
    "        exp_x = np.exp(x)\n",
    "        return np.exp(x) / np.sum(exp_x, axis = 0)\n",
    "    \n",
    "    def sigmoide(self, x):\n",
    "        exp = np.exp(-1*x)\n",
    "        return 1 / (1 + exp)\n",
    "    \n",
    "    def cross_entropy(self, entrees, y):\n",
    "        outputs     = self.entree_sortie_reseau(entrees)[self.L]\n",
    "        log_outputs = np.log(outputs)\n",
    "        return np.sum(np.sum(y * log_outputs,axis = 0))\n",
    "                  \n",
    "    def entree_sortie_reseau(self,x):\n",
    "        couches = {i : [] for i in range(self.L + 1)}\n",
    "        couches[0] = x\n",
    "        for l in range(1,self.L):\n",
    "            couches[l] = self.sigmoide(self.W[l] @ couches[l-1] + self.biais[l]) #Correspond à entree_sortie_RBM\n",
    "        \n",
    "        couches[self.L] = self.calcul_softmax(self.W[self.L] @ couches[self.L - 1] + self.biais[self.L])\n",
    "        return couches\n",
    "        \n",
    "    def retropropagation(self,x_batch,y_batch):\n",
    "        couches = self.entree_sortie_reseau(x_batch)\n",
    "        c = couches[self.L] - y_batch\n",
    "        dW = {self.L :  c @ couches[self.L - 1].T}\n",
    "        grad_biais = {self.L :  np.sum(c,axis = 1).reshape(-1,1)}\n",
    "\n",
    "        for l in range(self.L - 1, 0 ,-1):\n",
    "            c = (self.W[l+1].T @ c) * couches[l] * (1 - couches[l])\n",
    "            dW[l] = c @ couches[l-1].T\n",
    "            grad_biais[l]  = np.sum(c, axis = 1).reshape(-1,1)\n",
    "        for l in range(1,self.L+1):\n",
    "            self.W[l] = self.W[l] - (self.lr/self.batch_size) * dW[l]\n",
    "            self.biais[l]  = self.biais[l] - (self.lr/self.batch_size) * grad_biais[l]\n",
    "            \n",
    "    def train_DNN(self,X_train, y_train, X_test, y_test,epochs):\n",
    "        if self.pre_train == True: \n",
    "            print(\"Phase de Pré-entrainement !\")\n",
    "            dbn = DBN()\n",
    "            dbn = dbn.init_DBN(self.couches_size,\n",
    "                      batch_size = 100,\n",
    "                      learning_rate = self.lr,\n",
    "                      epochs = 200)\n",
    "            dbn = dbn.train_DBN(X_train.T)\n",
    "            for i,rbm in enumerate(dbn.rbms):\n",
    "                self.W[i+1],self.biais[i+1] = rbm.W.T, rbm.a\n",
    "        \n",
    "        print(\"Phase d'Entrainement !\")\n",
    "        for i in range(epochs):\n",
    "            indexes = np.random.permutation(X_train.shape[1])\n",
    "            batches = [(X_train.T[indexes[i:i+self.batch_size]].T,y_train.T[indexes[i:i+self.batch_size]].T)\n",
    "                       for i in range(0,len(indexes),self.batch_size)]\n",
    "            for batch in batches: \n",
    "                self.retropropagation(batch[0],batch[1])\n",
    "            print(f\"epoch n° {i+1} / {epochs} | cross_entropy : {self.cross_entropy(X_train,y_train)}\")\n",
    "        print(f\"cross_entropy : {self.cross_entropy(X_train,y_train)}\")\n",
    "        print(f\"classification rate : {self.test_DNN(test,test_y)} / 10000\")\n",
    "        return self\n",
    "        \n",
    "    \n",
    "    def test_DNN(self,x,y):\n",
    "        y_pred = self.entree_sortie_reseau(x)[self.L]\n",
    "        y  = (np.argmax(y_pred, axis = 0) == np.argmax(y, axis = 0))\n",
    "        return np.sum(y) "
   ]
  },
  {
   "cell_type": "code",
   "execution_count": 16,
   "metadata": {
    "scrolled": true
   },
   "outputs": [],
   "source": [
    "def principal_DNN_MNIST(pre_train):\n",
    "    dnn = DNN([784,50,50,10],batch_size = 100,lr = 0.1, pre_train = pre_train)\n",
    "    test_errors = dnn.train_DNN(X_train.T[:10000].T,train_y.T[:10000].T,X_test,test_y,200)\n",
    "    return dnn"
   ]
  },
  {
   "cell_type": "markdown",
   "metadata": {},
   "source": [
    "## Classification en fonction du nombre de couches cachées"
   ]
  },
  {
   "cell_type": "markdown",
   "metadata": {},
   "source": [
    "#### _Pré-entrainé (éviter d'exécuter si on n'a pas de temps)_"
   ]
  },
  {
   "cell_type": "code",
   "execution_count": null,
   "metadata": {},
   "outputs": [
    {
     "name": "stdout",
     "output_type": "stream",
     "text": [
      "Phase de Pré-entrainement !\n",
      "== > TRAIN DBN <==\n",
      "(100, 1) (784, 100) (784, 1)\n",
      "== > TRAIN RBM <==\n",
      "== > FIN TRAIN RBM <==\n",
      "(10, 1) (100, 10) (100, 1)\n",
      "== > TRAIN RBM <==\n",
      "== > FIN TRAIN RBM <==\n",
      "== > FIN <==\n",
      "Phase d'Entrainement !\n",
      "cross_entropy : -4654.637068573327\n",
      "classification rate : 8583 / 10000\n",
      "Phase de Pré-entrainement !\n",
      "== > TRAIN DBN <==\n",
      "(100, 1) (784, 100) (784, 1)\n",
      "== > TRAIN RBM <==\n",
      "== > FIN TRAIN RBM <==\n",
      "(100, 1) (100, 100) (100, 1)\n",
      "== > TRAIN RBM <==\n",
      "== > FIN TRAIN RBM <==\n",
      "(10, 1) (100, 10) (100, 1)\n",
      "== > TRAIN RBM <==\n",
      "== > FIN TRAIN RBM <==\n",
      "== > FIN <==\n",
      "Phase d'Entrainement !\n",
      "cross_entropy : -4248.595951264803\n",
      "classification rate : 8645 / 10000\n",
      "Phase de Pré-entrainement !\n",
      "== > TRAIN DBN <==\n",
      "(100, 1) (784, 100) (784, 1)\n",
      "== > TRAIN RBM <==\n",
      "== > FIN TRAIN RBM <==\n",
      "(100, 1) (100, 100) (100, 1)\n",
      "== > TRAIN RBM <==\n",
      "== > FIN TRAIN RBM <==\n",
      "(100, 1) (100, 100) (100, 1)\n",
      "== > TRAIN RBM <==\n",
      "== > FIN TRAIN RBM <==\n",
      "(10, 1) (100, 10) (100, 1)\n",
      "== > TRAIN RBM <==\n",
      "== > FIN TRAIN RBM <==\n",
      "== > FIN <==\n",
      "Phase d'Entrainement !\n",
      "cross_entropy : -3223.6317952317368\n",
      "classification rate : 8952 / 10000\n",
      "Phase de Pré-entrainement !\n",
      "== > TRAIN DBN <==\n",
      "(100, 1) (784, 100) (784, 1)\n",
      "== > TRAIN RBM <==\n",
      "== > FIN TRAIN RBM <==\n",
      "(100, 1) (100, 100) (100, 1)\n",
      "== > TRAIN RBM <==\n",
      "== > FIN TRAIN RBM <==\n",
      "(100, 1) (100, 100) (100, 1)\n",
      "== > TRAIN RBM <==\n",
      "== > FIN TRAIN RBM <==\n",
      "(100, 1) (100, 100) (100, 1)\n",
      "== > TRAIN RBM <==\n",
      "== > FIN TRAIN RBM <==\n",
      "(10, 1) (100, 10) (100, 1)\n",
      "== > TRAIN RBM <==\n",
      "== > FIN TRAIN RBM <==\n",
      "== > FIN <==\n",
      "Phase d'Entrainement !\n",
      "cross_entropy : -3618.9370861806856\n",
      "classification rate : 8938 / 10000\n",
      "Phase de Pré-entrainement !\n",
      "== > TRAIN DBN <==\n",
      "(100, 1) (784, 100) (784, 1)\n",
      "== > TRAIN RBM <==\n"
     ]
    }
   ],
   "source": [
    "from datetime import datetime\n",
    "start_time = datetime.now()\n",
    "couches = [784,10]\n",
    "result1 = []\n",
    "for i in range(1,10):\n",
    "    couches.insert(1, 100)\n",
    "    pre_train_dnn = DNN(couches,batch_size = 100,lr = 0.1, pre_train = True)\n",
    "    pre_train_dnn = pre_train_dnn.train_DNN(X_train.T[:10000].T,train_y.T[:10000].T,test,test_y,20)\n",
    "    result1.append(pre_train_dnn.test_DNN(test,test_y))\n",
    "end_time = datetime.now()\n",
    "print('Duration: {}'.format(end_time - start_time))\n",
    "result1"
   ]
  },
  {
   "cell_type": "markdown",
   "metadata": {},
   "source": [
    "#### _Non Pré-entrainé_"
   ]
  },
  {
   "cell_type": "code",
   "execution_count": 35,
   "metadata": {},
   "outputs": [
    {
     "name": "stdout",
     "output_type": "stream",
     "text": [
      "[784, 100, 100, 10]\n",
      "Phase d'Entrainement !\n",
      "cross_entropy : -3246.8108599825455\n",
      "classification rate : 8961 / 10000\n",
      "[784, 100, 100, 100, 10]\n",
      "Phase d'Entrainement !\n",
      "cross_entropy : -5859.761852221416\n",
      "classification rate : 8259 / 10000\n",
      "[784, 100, 100, 100, 100, 10]\n",
      "Phase d'Entrainement !\n",
      "cross_entropy : -18834.864517572358\n",
      "classification rate : 4350 / 10000\n",
      "[784, 100, 100, 100, 100, 100, 10]\n",
      "Phase d'Entrainement !\n",
      "cross_entropy : -23017.4518564122\n",
      "classification rate : 1135 / 10000\n",
      "[784, 100, 100, 100, 100, 100, 100, 10]\n",
      "Phase d'Entrainement !\n",
      "cross_entropy : -23112.402610685698\n",
      "classification rate : 1009 / 10000\n",
      "[784, 100, 100, 100, 100, 100, 100, 100, 10]\n",
      "Phase d'Entrainement !\n",
      "cross_entropy : -23036.555279028635\n",
      "classification rate : 1135 / 10000\n",
      "[784, 100, 100, 100, 100, 100, 100, 100, 100, 10]\n",
      "Phase d'Entrainement !\n",
      "cross_entropy : -23089.12425085118\n",
      "classification rate : 1135 / 10000\n",
      "[784, 100, 100, 100, 100, 100, 100, 100, 100, 100, 10]\n",
      "Phase d'Entrainement !\n",
      "cross_entropy : -23026.340243341863\n",
      "classification rate : 1135 / 10000\n",
      "[784, 100, 100, 100, 100, 100, 100, 100, 100, 100, 100, 10]\n",
      "Phase d'Entrainement !\n",
      "cross_entropy : -23037.97492159419\n",
      "classification rate : 1028 / 10000\n",
      "Duration: 0:01:58.655580\n"
     ]
    },
    {
     "data": {
      "text/plain": [
       "[8961, 8259, 4350, 1135, 1009, 1135, 1135, 1135, 1028]"
      ]
     },
     "execution_count": 35,
     "metadata": {},
     "output_type": "execute_result"
    }
   ],
   "source": [
    "from datetime import datetime\n",
    "start_time = datetime.now()\n",
    "couches = [784,100,10]\n",
    "result2 = []\n",
    "for i in range(1,10):\n",
    "    couches.insert(1, 100)\n",
    "    print(couches)\n",
    "    no_pre_train_dnn = DNN(couches,batch_size = 100,lr = 0.1, pre_train = False)\n",
    "    no_pre_train_dnn = no_pre_train_dnn.train_DNN(X_train.T[:10000].T,train_y.T[:10000].T,test,test_y,20)\n",
    "    result2.append(no_pre_train_dnn.test_DNN(test,test_y))\n",
    "end_time = datetime.now()\n",
    "print('Duration: {}'.format(end_time - start_time))\n",
    "result2"
   ]
  },
  {
   "cell_type": "code",
   "execution_count": 30,
   "metadata": {},
   "outputs": [
    {
     "data": {
      "image/png": "[encoded data removed]",
      "text/plain": [
       "<Figure size 1008x576 with 1 Axes>"
      ]
     },
     "metadata": {
      "needs_background": "light"
     },
     "output_type": "display_data"
    }
   ],
   "source": [
    "x = [1, 2, 3, 4, 5, 6, 7, 8, 9]\n",
    "result1 = [9071,9164,9133,9125,9113,9091,9030,8919,8871]\n",
    "result2 = [8960,8373,2075,974,1135,1010,1028,1135,1135]\n",
    "y1 = 100*(1-(1/10000)*np.array(result1))\n",
    "y2 = 100*(1-(1/10000)*np.array(result2))\n",
    "plt.figure(1, figsize=(14,8))\n",
    "plt.title(\"Classification en fonction du nombre de couches cachées\")\n",
    "plt.xlabel(\"Nombre de couches cachées\")\n",
    "plt.ylabel(\"Taux d'erreur de classification %\")\n",
    "plt.plot(x, y1, \"*-\" ,label=\"Pré-entrainé\")\n",
    "plt.plot(x, y2,\"+--\", label=\"Non pré-entrainé\")\n",
    "plt.legend()\n",
    "plt.savefig('a.png')"
   ]
  },
  {
   "cell_type": "markdown",
   "metadata": {},
   "source": [
    "## Classification en fonction du nombre de neuronnes sur les 2 couches cachées"
   ]
  },
  {
   "cell_type": "markdown",
   "metadata": {},
   "source": [
    "#### _Pré-entrainé (éviter d'exécuter si on n'a pas de temps)_"
   ]
  },
  {
   "cell_type": "code",
   "execution_count": null,
   "metadata": {},
   "outputs": [],
   "source": [
    "from datetime import datetime\n",
    "start_time = datetime.now()\n",
    "a = [10, 20, 50, 100, 150, 200, 250, 300, 350]\n",
    "result3 = []\n",
    "for i in a:\n",
    "    couches = [784,10]\n",
    "    couches.insert(1, i)\n",
    "    couches.insert(1, i)\n",
    "    pre_train_dnn = DNN(couches,batch_size = 100,lr = 0.1, pre_train = True)\n",
    "    pre_train_dnn = pre_train_dnn.train_DNN(X_train.T[:10000].T,train_y.T[:10000].T,test,test_y,20)\n",
    "    result3.append(pre_train_dnn.test_DNN(test,test_y))\n",
    "end_time = datetime.now()\n",
    "print('Duration: {}'.format(end_time - start_time))\n",
    "result3"
   ]
  },
  {
   "cell_type": "markdown",
   "metadata": {},
   "source": [
    "#### _Non Pré-entrainé_"
   ]
  },
  {
   "cell_type": "code",
   "execution_count": 37,
   "metadata": {},
   "outputs": [
    {
     "name": "stdout",
     "output_type": "stream",
     "text": [
      "Phase d'Entrainement !\n",
      "cross_entropy : -11981.222605136285\n",
      "classification rate : 6003 / 10000\n",
      "Phase d'Entrainement !\n",
      "cross_entropy : -7268.126962702807\n",
      "classification rate : 8027 / 10000\n",
      "Phase d'Entrainement !\n",
      "cross_entropy : -4172.889751299981\n",
      "classification rate : 8718 / 10000\n",
      "Phase d'Entrainement !\n",
      "cross_entropy : -3199.9866574147\n",
      "classification rate : 8964 / 10000\n",
      "Phase d'Entrainement !\n",
      "cross_entropy : -2984.979112231631\n",
      "classification rate : 9036 / 10000\n",
      "Phase d'Entrainement !\n",
      "cross_entropy : -2862.0235589866843\n",
      "classification rate : 9054 / 10000\n",
      "Phase d'Entrainement !\n",
      "cross_entropy : -2819.1479199866403\n",
      "classification rate : 9065 / 10000\n",
      "Phase d'Entrainement !\n",
      "cross_entropy : -2684.846292685127\n",
      "classification rate : 9070 / 10000\n",
      "Phase d'Entrainement !\n",
      "cross_entropy : -2637.725907152404\n",
      "classification rate : 9087 / 10000\n",
      "Duration: 0:02:20.268412\n"
     ]
    },
    {
     "data": {
      "text/plain": [
       "[6003, 8027, 8718, 8964, 9036, 9054, 9065, 9070, 9087]"
      ]
     },
     "execution_count": 37,
     "metadata": {},
     "output_type": "execute_result"
    }
   ],
   "source": [
    "from datetime import datetime\n",
    "start_time = datetime.now()\n",
    "a = [10, 20, 50, 100, 150, 200, 250, 300, 350]\n",
    "result4 = []\n",
    "for i in a:\n",
    "    couches = [784,10]\n",
    "    couches.insert(1, i)\n",
    "    couches.insert(1, i)\n",
    "    no_pre_train_dnn = DNN(couches,batch_size = 100,lr = 0.1, pre_train = False)\n",
    "    no_pre_train_dnn = no_pre_train_dnn.train_DNN(X_train.T[:10000].T,train_y.T[:10000].T,test,test_y,20)\n",
    "    result4.append(no_pre_train_dnn.test_DNN(test,test_y))\n",
    "end_time = datetime.now()\n",
    "print('Duration: {}'.format(end_time - start_time))\n",
    "result4"
   ]
  },
  {
   "cell_type": "code",
   "execution_count": 28,
   "metadata": {},
   "outputs": [
    {
     "data": {
      "text/plain": [
       "<matplotlib.legend.Legend at 0x1f760e82f88>"
      ]
     },
     "execution_count": 28,
     "metadata": {},
     "output_type": "execute_result"
    },
    {
     "data": {
      "image/png": "[encoded data removed]",
      "text/plain": [
       "<Figure size 1008x576 with 1 Axes>"
      ]
     },
     "metadata": {
      "needs_background": "light"
     },
     "output_type": "display_data"
    }
   ],
   "source": [
    "x = [10, 20, 50, 100, 150, 200, 250, 300, 350]\n",
    "result5 = [6166, 7742, 8731, 9116, 9228, 9307, 9335, 9335, 9354]\n",
    "result6 = [6003, 8027, 8718, 8964, 9036, 9054, 9065, 9070, 9087]\n",
    "y1 = 100*(1-(1/10000)*np.array(result5))\n",
    "y2 = 100*(1-(1/10000)*np.array(result6))\n",
    "plt.figure(1, figsize=(14,8))\n",
    "plt.title(\"Classification en fonction du nombre de données d'apprentissage\")\n",
    "plt.xlabel(\"Nombre de neuronnes sur la couche cachée\")\n",
    "plt.ylabel(\"Taux d'erreur de classification %\")\n",
    "plt.plot(x, y1, \"*-\" ,label=\"Pré-entrainé\")\n",
    "plt.plot(x, y2,\"+--\", label=\"Non pré-entrainé\")\n",
    "plt.legend()"
   ]
  },
  {
   "cell_type": "markdown",
   "metadata": {},
   "source": [
    "## Classification en fonction du nombre de données d'apprentissage"
   ]
  },
  {
   "cell_type": "markdown",
   "metadata": {},
   "source": [
    "#### _Pré-entrainé (éviter d'exécuter si on n'a pas de temps)_"
   ]
  },
  {
   "cell_type": "code",
   "execution_count": null,
   "metadata": {},
   "outputs": [],
   "source": [
    "from datetime import datetime\n",
    "start_time = datetime.now()\n",
    "a = [3000, 5000, 7500, 10000, 20000, 30000, 40000, 50000, 60000]\n",
    "result5 = []\n",
    "for i in a:\n",
    "    pre_train_dnn = DNN([784,100, 100,10],batch_size = 100,lr = 0.1, pre_train = True)\n",
    "    pre_train_dnn = pre_train_dnn.train_DNN(X_train.T[:i].T,train_y.T[:i].T,test,test_y,20)\n",
    "    result5.append(pre_train_dnn.test_DNN(test,test_y))\n",
    "end_time = datetime.now()\n",
    "print('Duration: {}'.format(end_time - start_time))\n",
    "result5"
   ]
  },
  {
   "cell_type": "markdown",
   "metadata": {},
   "source": [
    "#### _Non Pré-entrainé_"
   ]
  },
  {
   "cell_type": "code",
   "execution_count": 36,
   "metadata": {},
   "outputs": [
    {
     "name": "stdout",
     "output_type": "stream",
     "text": [
      "Phase d'Entrainement !\n",
      "cross_entropy : -2298.097893914166\n",
      "classification rate : 7980 / 10000\n",
      "Phase d'Entrainement !\n",
      "cross_entropy : -2378.901593147745\n",
      "classification rate : 8589 / 10000\n",
      "Phase d'Entrainement !\n",
      "cross_entropy : -2709.44613717467\n",
      "classification rate : 8848 / 10000\n",
      "Phase d'Entrainement !\n",
      "cross_entropy : -3268.584641404925\n",
      "classification rate : 8949 / 10000\n",
      "Phase d'Entrainement !\n",
      "cross_entropy : -4916.477462162964\n",
      "classification rate : 9201 / 10000\n",
      "Phase d'Entrainement !\n",
      "cross_entropy : -6105.203904639382\n",
      "classification rate : 9345 / 10000\n",
      "Phase d'Entrainement !\n",
      "cross_entropy : -6822.074380423997\n",
      "classification rate : 9454 / 10000\n",
      "Phase d'Entrainement !\n",
      "cross_entropy : -7610.338654119127\n",
      "classification rate : 9509 / 10000\n",
      "Phase d'Entrainement !\n",
      "cross_entropy : -8209.592060447208\n",
      "classification rate : 9543 / 10000\n",
      "Duration: 0:03:33.536300\n"
     ]
    },
    {
     "data": {
      "text/plain": [
       "[7980, 8589, 8848, 8949, 9201, 9345, 9454, 9509, 9543]"
      ]
     },
     "execution_count": 36,
     "metadata": {},
     "output_type": "execute_result"
    }
   ],
   "source": [
    "from datetime import datetime\n",
    "start_time = datetime.now()\n",
    "a = [3000, 5000, 7500, 10000, 20000, 30000, 40000, 50000, 60000]\n",
    "result6 = []\n",
    "for i in a:\n",
    "    no_pre_train_dnn = DNN([784,100, 100,10],batch_size = 100,lr = 0.1, pre_train = False)\n",
    "    no_pre_train_dnn = no_pre_train_dnn.train_DNN(X_train.T[:i].T,train_y.T[:i].T,test,test_y,20)\n",
    "    result6.append(no_pre_train_dnn.test_DNN(test,test_y))\n",
    "end_time = datetime.now()\n",
    "print('Duration: {}'.format(end_time - start_time))\n",
    "result6"
   ]
  },
  {
   "cell_type": "code",
   "execution_count": 27,
   "metadata": {},
   "outputs": [
    {
     "data": {
      "text/plain": [
       "<matplotlib.legend.Legend at 0x1f7607c1788>"
      ]
     },
     "execution_count": 27,
     "metadata": {},
     "output_type": "execute_result"
    },
    {
     "data": {
      "image/png": "[encoded data removed]",
      "text/plain": [
       "<Figure size 1008x576 with 1 Axes>"
      ]
     },
     "metadata": {
      "needs_background": "light"
     },
     "output_type": "display_data"
    }
   ],
   "source": [
    "x = [3000, 5000, 7500, 10000, 20000, 30000, 40000, 50000, 60000]\n",
    "result5 = [8703, 8950, 9034, 9144, 9261, 9358, 9417, 9453, 9438]\n",
    "result6 = [7942, 8601, 8844, 8975, 9201, 9339, 9424, 9467, 9526]\n",
    "y1 = 100*(1-(1/10000)*np.array(result5))\n",
    "y2 = 100*(1-(1/10000)*np.array(result6))\n",
    "plt.figure(1, figsize=(14,8))\n",
    "plt.title(\"Classification en fonction du nombre de données d'apprentissage\")\n",
    "plt.xlabel(\"Nombre de données d'apprentissage\")\n",
    "plt.ylabel(\"Taux d'erreur de classification %\")\n",
    "plt.plot(x, y1, \"*-\" ,label=\"Pré-entrainé\")\n",
    "plt.plot(x, y2,\"+--\", label=\"Non pré-entrainé\")\n",
    "plt.legend()"
   ]
  },
  {
   "cell_type": "markdown",
   "metadata": {},
   "source": [
    "### Exécution du DNN avec les paramètres optimaux (mais No Pre Train pour gagner du temps)"
   ]
  },
  {
   "cell_type": "code",
   "execution_count": 31,
   "metadata": {},
   "outputs": [
    {
     "name": "stdout",
     "output_type": "stream",
     "text": [
      "Phase d'Entrainement !\n",
      "epoch n° 1 / 50 | cross_entropy : -25889.525127961177\n",
      "epoch n° 2 / 50 | cross_entropy : -20610.480762009982\n",
      "epoch n° 3 / 50 | cross_entropy : -19003.41290699917\n",
      "epoch n° 4 / 50 | cross_entropy : -17115.429518664863\n",
      "epoch n° 5 / 50 | cross_entropy : -16118.916728264869\n",
      "epoch n° 6 / 50 | cross_entropy : -15165.713522101463\n",
      "epoch n° 7 / 50 | cross_entropy : -14294.975647971496\n",
      "epoch n° 8 / 50 | cross_entropy : -13760.447695719959\n",
      "epoch n° 9 / 50 | cross_entropy : -12749.488775871518\n",
      "epoch n° 10 / 50 | cross_entropy : -12651.017839983426\n",
      "epoch n° 11 / 50 | cross_entropy : -11650.393695760871\n",
      "epoch n° 12 / 50 | cross_entropy : -11050.888498777098\n",
      "epoch n° 13 / 50 | cross_entropy : -11116.478173106714\n",
      "epoch n° 14 / 50 | cross_entropy : -9974.74990150937\n",
      "epoch n° 15 / 50 | cross_entropy : -9501.84516040847\n",
      "epoch n° 16 / 50 | cross_entropy : -8991.776687343508\n",
      "epoch n° 17 / 50 | cross_entropy : -8943.015848315054\n",
      "epoch n° 18 / 50 | cross_entropy : -8517.319689278756\n",
      "epoch n° 19 / 50 | cross_entropy : -8040.567548165889\n",
      "epoch n° 20 / 50 | cross_entropy : -7842.46395877026\n",
      "epoch n° 21 / 50 | cross_entropy : -7488.42912856027\n",
      "epoch n° 22 / 50 | cross_entropy : -7257.258140626454\n",
      "epoch n° 23 / 50 | cross_entropy : -6996.813334824338\n",
      "epoch n° 24 / 50 | cross_entropy : -6505.44051329378\n",
      "epoch n° 25 / 50 | cross_entropy : -6398.184802153085\n",
      "epoch n° 26 / 50 | cross_entropy : -6239.619561941187\n",
      "epoch n° 27 / 50 | cross_entropy : -5839.215932202905\n",
      "epoch n° 28 / 50 | cross_entropy : -5871.451252513956\n",
      "epoch n° 29 / 50 | cross_entropy : -5664.734955005508\n",
      "epoch n° 30 / 50 | cross_entropy : -5260.227703082026\n",
      "epoch n° 31 / 50 | cross_entropy : -5045.414219844005\n",
      "epoch n° 32 / 50 | cross_entropy : -4983.520261067389\n",
      "epoch n° 33 / 50 | cross_entropy : -4692.154074971209\n",
      "epoch n° 34 / 50 | cross_entropy : -4621.376979119344\n",
      "epoch n° 35 / 50 | cross_entropy : -4465.756851601141\n",
      "epoch n° 36 / 50 | cross_entropy : -4337.98127248696\n",
      "epoch n° 37 / 50 | cross_entropy : -4328.867607037121\n",
      "epoch n° 38 / 50 | cross_entropy : -4116.105809394928\n",
      "epoch n° 39 / 50 | cross_entropy : -3877.597040721891\n",
      "epoch n° 40 / 50 | cross_entropy : -4036.456763385031\n",
      "epoch n° 41 / 50 | cross_entropy : -3673.8138673312105\n",
      "epoch n° 42 / 50 | cross_entropy : -3681.6464845358128\n",
      "epoch n° 43 / 50 | cross_entropy : -3653.7012353167593\n",
      "epoch n° 44 / 50 | cross_entropy : -3358.9428740905487\n",
      "epoch n° 45 / 50 | cross_entropy : -3230.8032893716586\n",
      "epoch n° 46 / 50 | cross_entropy : -3213.582746376831\n",
      "epoch n° 47 / 50 | cross_entropy : -3037.515923933367\n",
      "epoch n° 48 / 50 | cross_entropy : -3052.7439839581652\n",
      "epoch n° 49 / 50 | cross_entropy : -2873.881465072277\n",
      "epoch n° 50 / 50 | cross_entropy : -2731.217109820975\n",
      "cross_entropy : -2731.217109820975\n",
      "classification rate : 9716 / 10000\n",
      "9716\n",
      "Duration: 0:11:39.214686\n"
     ]
    }
   ],
   "source": [
    "from datetime import datetime\n",
    "start_time = datetime.now()\n",
    "couches = [784,400,400,10]\n",
    "no_pre_train_dnn = DNN(couches,batch_size = 100,lr = 0.1, pre_train = False)\n",
    "no_pre_train_dnn = no_pre_train_dnn.train_DNN(X_train.T[:60000].T,train_y.T[:60000].T,test,test_y,50)\n",
    "print(no_pre_train_dnn.test_DNN(test,test_y))\n",
    "end_time = datetime.now()\n",
    "print('Duration: {}'.format(end_time - start_time))"
   ]
  },
  {
   "cell_type": "markdown",
   "metadata": {},
   "source": [
    "## Taux définitif : 2.84%"
   ]
  },
  {
   "cell_type": "markdown",
   "metadata": {},
   "source": [
    "# FIN"
   ]
  }
 ],
 "metadata": {
  "kernelspec": {
   "display_name": "Python 3",
   "language": "python",
   "name": "python3"
  },
  "language_info": {
   "codemirror_mode": {
    "name": "ipython",
    "version": 3
   },
   "file_extension": ".py",
   "mimetype": "text/x-python",
   "name": "python",
   "nbconvert_exporter": "python",
   "pygments_lexer": "ipython3",
   "version": "3.7.4"
  }
 },
 "nbformat": 4,
 "nbformat_minor": 2
}
