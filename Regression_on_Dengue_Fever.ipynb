{
 "cells": [
  {
   "cell_type": "markdown",
   "metadata": {},
   "source": [
    "<h1><center><font color=darkcyan>  TP d'Apprentissage statistiques sur les données biologiques </font></center></h1>\n",
    "\n",
    "<h2><center><font color=darkorange> Application à la régression linéaire et régression LASSO</font></center></h2>\n",
    "\n",
    "<lu>\n",
    "    <li><font color=darkblue> SOPGOUI MBEUKAM Lionel</font></li>\n",
    "    <li><font color=darkblue> ADDASSI Youssef</font></li>\n",
    "</lu>\n",
    "<hr>"
   ]
  },
  {
   "cell_type": "code",
   "execution_count": 1,
   "metadata": {},
   "outputs": [],
   "source": [
    "import pandas as pd\n",
    "from sklearn.decomposition import PCA\n",
    "import random\n",
    "import matplotlib.pyplot as plt\n",
    "import numpy as np\n",
    "from scipy import stats\n",
    "from statsmodels.stats.multitest import fdrcorrection"
   ]
  },
  {
   "cell_type": "markdown",
   "metadata": {},
   "source": [
    "### Question 1 : Importation et préparation des données"
   ]
  },
  {
   "cell_type": "code",
   "execution_count": 36,
   "metadata": {},
   "outputs": [
    {
     "data": {
      "text/html": [
       "<div>\n",
       "<style scoped>\n",
       "    .dataframe tbody tr th:only-of-type {\n",
       "        vertical-align: middle;\n",
       "    }\n",
       "\n",
       "    .dataframe tbody tr th {\n",
       "        vertical-align: top;\n",
       "    }\n",
       "\n",
       "    .dataframe thead th {\n",
       "        text-align: right;\n",
       "    }\n",
       "</style>\n",
       "<table border=\"1\" class=\"dataframe\">\n",
       "  <thead>\n",
       "    <tr style=\"text-align: right;\">\n",
       "      <th></th>\n",
       "      <th>12</th>\n",
       "      <th>13</th>\n",
       "      <th>14</th>\n",
       "      <th>15</th>\n",
       "      <th>16</th>\n",
       "      <th>17</th>\n",
       "      <th>18</th>\n",
       "      <th>19</th>\n",
       "      <th>20</th>\n",
       "      <th>21</th>\n",
       "      <th>...</th>\n",
       "      <th>45200</th>\n",
       "      <th>45201</th>\n",
       "      <th>45202</th>\n",
       "      <th>45203</th>\n",
       "      <th>45204</th>\n",
       "      <th>45205</th>\n",
       "      <th>45206</th>\n",
       "      <th>45207</th>\n",
       "      <th>45208</th>\n",
       "      <th>45209</th>\n",
       "    </tr>\n",
       "  </thead>\n",
       "  <tbody>\n",
       "    <tr>\n",
       "      <th>GSM447781</th>\n",
       "      <td>11.519934</td>\n",
       "      <td>6.915259</td>\n",
       "      <td>9.818105</td>\n",
       "      <td>5.371255</td>\n",
       "      <td>11.843452</td>\n",
       "      <td>4.810572</td>\n",
       "      <td>7.450713</td>\n",
       "      <td>14.397061</td>\n",
       "      <td>5.763549</td>\n",
       "      <td>4.984783</td>\n",
       "      <td>...</td>\n",
       "      <td>5.252327</td>\n",
       "      <td>10.047690</td>\n",
       "      <td>8.234652</td>\n",
       "      <td>13.762584</td>\n",
       "      <td>4.728840</td>\n",
       "      <td>6.430334</td>\n",
       "      <td>9.537699</td>\n",
       "      <td>2.745445</td>\n",
       "      <td>2.735733</td>\n",
       "      <td>9.696610</td>\n",
       "    </tr>\n",
       "    <tr>\n",
       "      <th>GSM447782</th>\n",
       "      <td>10.266369</td>\n",
       "      <td>6.584705</td>\n",
       "      <td>10.149880</td>\n",
       "      <td>5.462203</td>\n",
       "      <td>11.636645</td>\n",
       "      <td>4.863805</td>\n",
       "      <td>7.495921</td>\n",
       "      <td>14.840463</td>\n",
       "      <td>5.832707</td>\n",
       "      <td>5.497416</td>\n",
       "      <td>...</td>\n",
       "      <td>5.202092</td>\n",
       "      <td>10.436165</td>\n",
       "      <td>7.862535</td>\n",
       "      <td>13.666809</td>\n",
       "      <td>4.914479</td>\n",
       "      <td>8.071005</td>\n",
       "      <td>10.409059</td>\n",
       "      <td>3.043695</td>\n",
       "      <td>2.825944</td>\n",
       "      <td>9.847350</td>\n",
       "    </tr>\n",
       "    <tr>\n",
       "      <th>GSM447783</th>\n",
       "      <td>11.517425</td>\n",
       "      <td>6.336898</td>\n",
       "      <td>9.712470</td>\n",
       "      <td>5.873331</td>\n",
       "      <td>11.452921</td>\n",
       "      <td>3.893979</td>\n",
       "      <td>7.288172</td>\n",
       "      <td>14.405493</td>\n",
       "      <td>6.228280</td>\n",
       "      <td>4.320078</td>\n",
       "      <td>...</td>\n",
       "      <td>6.325055</td>\n",
       "      <td>9.824410</td>\n",
       "      <td>8.270700</td>\n",
       "      <td>13.628572</td>\n",
       "      <td>5.813508</td>\n",
       "      <td>7.943193</td>\n",
       "      <td>9.742599</td>\n",
       "      <td>5.692912</td>\n",
       "      <td>5.057673</td>\n",
       "      <td>9.879107</td>\n",
       "    </tr>\n",
       "    <tr>\n",
       "      <th>GSM447784</th>\n",
       "      <td>11.963806</td>\n",
       "      <td>5.881100</td>\n",
       "      <td>9.836638</td>\n",
       "      <td>4.544681</td>\n",
       "      <td>12.135660</td>\n",
       "      <td>5.605158</td>\n",
       "      <td>7.279210</td>\n",
       "      <td>15.060383</td>\n",
       "      <td>5.757566</td>\n",
       "      <td>4.385994</td>\n",
       "      <td>...</td>\n",
       "      <td>4.642562</td>\n",
       "      <td>10.524205</td>\n",
       "      <td>9.303061</td>\n",
       "      <td>13.481760</td>\n",
       "      <td>4.608364</td>\n",
       "      <td>6.823640</td>\n",
       "      <td>10.768028</td>\n",
       "      <td>2.447080</td>\n",
       "      <td>2.593118</td>\n",
       "      <td>10.984354</td>\n",
       "    </tr>\n",
       "    <tr>\n",
       "      <th>GSM447785</th>\n",
       "      <td>11.982629</td>\n",
       "      <td>5.990039</td>\n",
       "      <td>9.955628</td>\n",
       "      <td>5.387667</td>\n",
       "      <td>12.134418</td>\n",
       "      <td>3.444473</td>\n",
       "      <td>7.434909</td>\n",
       "      <td>14.590845</td>\n",
       "      <td>5.887564</td>\n",
       "      <td>3.263066</td>\n",
       "      <td>...</td>\n",
       "      <td>5.760451</td>\n",
       "      <td>9.898232</td>\n",
       "      <td>9.130494</td>\n",
       "      <td>12.996577</td>\n",
       "      <td>6.137035</td>\n",
       "      <td>6.583159</td>\n",
       "      <td>10.457579</td>\n",
       "      <td>5.914624</td>\n",
       "      <td>4.437827</td>\n",
       "      <td>10.085594</td>\n",
       "    </tr>\n",
       "  </tbody>\n",
       "</table>\n",
       "<p>5 rows × 43376 columns</p>\n",
       "</div>"
      ],
      "text/plain": [
       "               12        13         14        15         16        17     \\\n",
       "GSM447781  11.519934  6.915259   9.818105  5.371255  11.843452  4.810572   \n",
       "GSM447782  10.266369  6.584705  10.149880  5.462203  11.636645  4.863805   \n",
       "GSM447783  11.517425  6.336898   9.712470  5.873331  11.452921  3.893979   \n",
       "GSM447784  11.963806  5.881100   9.836638  4.544681  12.135660  5.605158   \n",
       "GSM447785  11.982629  5.990039   9.955628  5.387667  12.134418  3.444473   \n",
       "\n",
       "              18         19        20        21       ...         45200  \\\n",
       "GSM447781  7.450713  14.397061  5.763549  4.984783    ...      5.252327   \n",
       "GSM447782  7.495921  14.840463  5.832707  5.497416    ...      5.202092   \n",
       "GSM447783  7.288172  14.405493  6.228280  4.320078    ...      6.325055   \n",
       "GSM447784  7.279210  15.060383  5.757566  4.385994    ...      4.642562   \n",
       "GSM447785  7.434909  14.590845  5.887564  3.263066    ...      5.760451   \n",
       "\n",
       "               45201     45202      45203     45204     45205      45206  \\\n",
       "GSM447781  10.047690  8.234652  13.762584  4.728840  6.430334   9.537699   \n",
       "GSM447782  10.436165  7.862535  13.666809  4.914479  8.071005  10.409059   \n",
       "GSM447783   9.824410  8.270700  13.628572  5.813508  7.943193   9.742599   \n",
       "GSM447784  10.524205  9.303061  13.481760  4.608364  6.823640  10.768028   \n",
       "GSM447785   9.898232  9.130494  12.996577  6.137035  6.583159  10.457579   \n",
       "\n",
       "              45207     45208      45209  \n",
       "GSM447781  2.745445  2.735733   9.696610  \n",
       "GSM447782  3.043695  2.825944   9.847350  \n",
       "GSM447783  5.692912  5.057673   9.879107  \n",
       "GSM447784  2.447080  2.593118  10.984354  \n",
       "GSM447785  5.914624  4.437827  10.085594  \n",
       "\n",
       "[5 rows x 43376 columns]"
      ]
     },
     "execution_count": 36,
     "metadata": {},
     "output_type": "execute_result"
    }
   ],
   "source": [
    "dataOrg = pd.read_csv('GSE17924_series_matrix.txt',sep='\\t',index_col=0, skiprows=21)\n",
    "dataOrg = dataOrg.transpose()\n",
    "dataOrg.head()"
   ]
  },
  {
   "cell_type": "code",
   "execution_count": 38,
   "metadata": {},
   "outputs": [],
   "source": [
    "annotations = pd.read_csv('GPL4133-12599.txt',sep='\\t',index_col=0, skiprows=22)\n",
    "annotations = annotations[\"GENE_NAME\"]\n",
    "annotations.dropna(inplace=True)"
   ]
  },
  {
   "cell_type": "code",
   "execution_count": 39,
   "metadata": {},
   "outputs": [
    {
     "name": "stderr",
     "output_type": "stream",
     "text": [
      "C:\\Users\\maixe\\Anaconda3\\lib\\site-packages\\IPython\\core\\interactiveshell.py:3020: DtypeWarning: Columns (0,1,2,3,4,5,6,7,8,9,10,11,12,13,14,15,16,17,18,19,20,21,22,23,24,25,26,27,28,29,30,31,32,33,34,35,36,37,38,39,40,41,42,43,44,45,46,47,48) have mixed types. Specify dtype option on import or set low_memory=False.\n",
      "  interactivity=interactivity, compiler=compiler, result=result)\n"
     ]
    }
   ],
   "source": [
    "label = pd.read_csv('GSE17924_series_matrix.txt',sep='\\t',index_col=0)\n",
    "label = label.transpose()\n",
    "label = label[\"severity\"]"
   ]
  },
  {
   "cell_type": "code",
   "execution_count": 40,
   "metadata": {
    "scrolled": false
   },
   "outputs": [],
   "source": [
    "label = label.replace(\"severity: DF\", 0)\n",
    "label = label.replace(\"severity: DHF\", 1)\n",
    "label = label.replace(\"severity: DSS\", 2)\n",
    "label = pd.DataFrame(label)"
   ]
  },
  {
   "cell_type": "markdown",
   "metadata": {},
   "source": [
    "## Question 2-a : Calcul et visualisation de la moyenne et de la variance, puis réduction des données"
   ]
  },
  {
   "cell_type": "code",
   "execution_count": 41,
   "metadata": {},
   "outputs": [],
   "source": [
    "dataOrg.loc['mean',:] = dataOrg.mean()"
   ]
  },
  {
   "cell_type": "code",
   "execution_count": 42,
   "metadata": {},
   "outputs": [],
   "source": [
    "dataOrg.loc['var',:] = dataOrg.var()"
   ]
  },
  {
   "cell_type": "code",
   "execution_count": 43,
   "metadata": {},
   "outputs": [
    {
     "data": {
      "text/html": [
       "<div>\n",
       "<style scoped>\n",
       "    .dataframe tbody tr th:only-of-type {\n",
       "        vertical-align: middle;\n",
       "    }\n",
       "\n",
       "    .dataframe tbody tr th {\n",
       "        vertical-align: top;\n",
       "    }\n",
       "\n",
       "    .dataframe thead th {\n",
       "        text-align: right;\n",
       "    }\n",
       "</style>\n",
       "<table border=\"1\" class=\"dataframe\">\n",
       "  <thead>\n",
       "    <tr style=\"text-align: right;\">\n",
       "      <th></th>\n",
       "      <th>12</th>\n",
       "      <th>13</th>\n",
       "      <th>14</th>\n",
       "      <th>15</th>\n",
       "      <th>16</th>\n",
       "      <th>17</th>\n",
       "      <th>18</th>\n",
       "      <th>19</th>\n",
       "      <th>20</th>\n",
       "      <th>21</th>\n",
       "      <th>...</th>\n",
       "      <th>45200</th>\n",
       "      <th>45201</th>\n",
       "      <th>45202</th>\n",
       "      <th>45203</th>\n",
       "      <th>45204</th>\n",
       "      <th>45205</th>\n",
       "      <th>45206</th>\n",
       "      <th>45207</th>\n",
       "      <th>45208</th>\n",
       "      <th>45209</th>\n",
       "    </tr>\n",
       "  </thead>\n",
       "  <tbody>\n",
       "    <tr>\n",
       "      <th>mean</th>\n",
       "      <td>12.013254</td>\n",
       "      <td>6.703419</td>\n",
       "      <td>10.172463</td>\n",
       "      <td>5.398674</td>\n",
       "      <td>12.050283</td>\n",
       "      <td>4.689184</td>\n",
       "      <td>7.279115</td>\n",
       "      <td>14.525322</td>\n",
       "      <td>5.783658</td>\n",
       "      <td>4.320613</td>\n",
       "      <td>...</td>\n",
       "      <td>5.470776</td>\n",
       "      <td>10.049973</td>\n",
       "      <td>8.439548</td>\n",
       "      <td>13.697780</td>\n",
       "      <td>5.674765</td>\n",
       "      <td>7.571860</td>\n",
       "      <td>10.124952</td>\n",
       "      <td>3.041932</td>\n",
       "      <td>3.025938</td>\n",
       "      <td>9.571172</td>\n",
       "    </tr>\n",
       "    <tr>\n",
       "      <th>var</th>\n",
       "      <td>0.469531</td>\n",
       "      <td>0.204521</td>\n",
       "      <td>0.135950</td>\n",
       "      <td>0.263657</td>\n",
       "      <td>0.224504</td>\n",
       "      <td>1.013781</td>\n",
       "      <td>0.062560</td>\n",
       "      <td>0.468381</td>\n",
       "      <td>0.766119</td>\n",
       "      <td>0.979006</td>\n",
       "      <td>...</td>\n",
       "      <td>0.215697</td>\n",
       "      <td>0.355891</td>\n",
       "      <td>0.156759</td>\n",
       "      <td>0.195122</td>\n",
       "      <td>0.651021</td>\n",
       "      <td>0.372346</td>\n",
       "      <td>0.477476</td>\n",
       "      <td>0.750174</td>\n",
       "      <td>0.615580</td>\n",
       "      <td>0.534234</td>\n",
       "    </tr>\n",
       "  </tbody>\n",
       "</table>\n",
       "<p>2 rows × 43376 columns</p>\n",
       "</div>"
      ],
      "text/plain": [
       "          12        13         14        15         16        17        18     \\\n",
       "mean  12.013254  6.703419  10.172463  5.398674  12.050283  4.689184  7.279115   \n",
       "var    0.469531  0.204521   0.135950  0.263657   0.224504  1.013781  0.062560   \n",
       "\n",
       "          19        20        21       ...        45200      45201     45202  \\\n",
       "mean  14.525322  5.783658  4.320613    ...     5.470776  10.049973  8.439548   \n",
       "var    0.468381  0.766119  0.979006    ...     0.215697   0.355891  0.156759   \n",
       "\n",
       "          45203     45204     45205      45206     45207     45208     45209  \n",
       "mean  13.697780  5.674765  7.571860  10.124952  3.041932  3.025938  9.571172  \n",
       "var    0.195122  0.651021  0.372346   0.477476  0.750174  0.615580  0.534234  \n",
       "\n",
       "[2 rows x 43376 columns]"
      ]
     },
     "execution_count": 43,
     "metadata": {},
     "output_type": "execute_result"
    }
   ],
   "source": [
    "dataOrg.tail(2)"
   ]
  },
  {
   "cell_type": "code",
   "execution_count": 44,
   "metadata": {},
   "outputs": [
    {
     "data": {
      "image/png": "[encoded data removed]",
      "text/plain": [
       "<Figure size 1152x432 with 1 Axes>"
      ]
     },
     "metadata": {
      "needs_background": "light"
     },
     "output_type": "display_data"
    }
   ],
   "source": [
    "plt.figure(figsize=(16,6))\n",
    "dataOrg.loc['mean',:].hist()\n",
    "plt.show()"
   ]
  },
  {
   "cell_type": "code",
   "execution_count": 45,
   "metadata": {},
   "outputs": [
    {
     "data": {
      "image/png": "[encoded data removed]",
      "text/plain": [
       "<Figure size 1152x432 with 1 Axes>"
      ]
     },
     "metadata": {
      "needs_background": "light"
     },
     "output_type": "display_data"
    }
   ],
   "source": [
    "plt.figure(figsize=(16,6))\n",
    "dataOrg.loc['var',:].hist()\n",
    "plt.show()"
   ]
  },
  {
   "cell_type": "code",
   "execution_count": 46,
   "metadata": {},
   "outputs": [],
   "source": [
    "S = dataOrg.loc['mean',:]>3"
   ]
  },
  {
   "cell_type": "code",
   "execution_count": 47,
   "metadata": {},
   "outputs": [],
   "source": [
    "T = dataOrg.loc['var',:]>2"
   ]
  },
  {
   "cell_type": "code",
   "execution_count": 48,
   "metadata": {},
   "outputs": [],
   "source": [
    "dataOrg = dataOrg.loc[:,S]\n",
    "dataOrg = dataOrg.loc[:,T]"
   ]
  },
  {
   "cell_type": "markdown",
   "metadata": {},
   "source": [
    "## Question 2-b : Réduction de la dimensionalité par application de l'ACP."
   ]
  },
  {
   "cell_type": "code",
   "execution_count": 49,
   "metadata": {},
   "outputs": [],
   "source": [
    "pca = PCA(n_components=2)\n",
    "pca_ = pca.fit_transform(dataOrg[:48])\n",
    "pca__ = pd.DataFrame(data = pca_, columns = ['pca 1', 'pca 2'])"
   ]
  },
  {
   "cell_type": "code",
   "execution_count": 50,
   "metadata": {},
   "outputs": [
    {
     "data": {
      "text/html": [
       "<div>\n",
       "<style scoped>\n",
       "    .dataframe tbody tr th:only-of-type {\n",
       "        vertical-align: middle;\n",
       "    }\n",
       "\n",
       "    .dataframe tbody tr th {\n",
       "        vertical-align: top;\n",
       "    }\n",
       "\n",
       "    .dataframe thead th {\n",
       "        text-align: right;\n",
       "    }\n",
       "</style>\n",
       "<table border=\"1\" class=\"dataframe\">\n",
       "  <thead>\n",
       "    <tr style=\"text-align: right;\">\n",
       "      <th></th>\n",
       "      <th>pca 1</th>\n",
       "      <th>pca 2</th>\n",
       "    </tr>\n",
       "  </thead>\n",
       "  <tbody>\n",
       "    <tr>\n",
       "      <th>0</th>\n",
       "      <td>44.023905</td>\n",
       "      <td>-17.182972</td>\n",
       "    </tr>\n",
       "    <tr>\n",
       "      <th>1</th>\n",
       "      <td>-3.549790</td>\n",
       "      <td>-2.321428</td>\n",
       "    </tr>\n",
       "    <tr>\n",
       "      <th>2</th>\n",
       "      <td>9.048354</td>\n",
       "      <td>4.176797</td>\n",
       "    </tr>\n",
       "    <tr>\n",
       "      <th>3</th>\n",
       "      <td>3.400135</td>\n",
       "      <td>-22.253105</td>\n",
       "    </tr>\n",
       "    <tr>\n",
       "      <th>4</th>\n",
       "      <td>21.364860</td>\n",
       "      <td>15.981512</td>\n",
       "    </tr>\n",
       "  </tbody>\n",
       "</table>\n",
       "</div>"
      ],
      "text/plain": [
       "       pca 1      pca 2\n",
       "0  44.023905 -17.182972\n",
       "1  -3.549790  -2.321428\n",
       "2   9.048354   4.176797\n",
       "3   3.400135 -22.253105\n",
       "4  21.364860  15.981512"
      ]
     },
     "execution_count": 50,
     "metadata": {},
     "output_type": "execute_result"
    }
   ],
   "source": [
    "pca__.head()"
   ]
  },
  {
   "cell_type": "code",
   "execution_count": 51,
   "metadata": {},
   "outputs": [],
   "source": [
    "finalDf = pca__.insert(2, \"severity\", label[\"severity\"].values)"
   ]
  },
  {
   "cell_type": "code",
   "execution_count": 52,
   "metadata": {},
   "outputs": [
    {
     "data": {
      "text/html": [
       "<div>\n",
       "<style scoped>\n",
       "    .dataframe tbody tr th:only-of-type {\n",
       "        vertical-align: middle;\n",
       "    }\n",
       "\n",
       "    .dataframe tbody tr th {\n",
       "        vertical-align: top;\n",
       "    }\n",
       "\n",
       "    .dataframe thead th {\n",
       "        text-align: right;\n",
       "    }\n",
       "</style>\n",
       "<table border=\"1\" class=\"dataframe\">\n",
       "  <thead>\n",
       "    <tr style=\"text-align: right;\">\n",
       "      <th></th>\n",
       "      <th>pca 1</th>\n",
       "      <th>pca 2</th>\n",
       "      <th>severity</th>\n",
       "    </tr>\n",
       "  </thead>\n",
       "  <tbody>\n",
       "    <tr>\n",
       "      <th>0</th>\n",
       "      <td>44.023905</td>\n",
       "      <td>-17.182972</td>\n",
       "      <td>0</td>\n",
       "    </tr>\n",
       "    <tr>\n",
       "      <th>1</th>\n",
       "      <td>-3.549790</td>\n",
       "      <td>-2.321428</td>\n",
       "      <td>0</td>\n",
       "    </tr>\n",
       "    <tr>\n",
       "      <th>2</th>\n",
       "      <td>9.048354</td>\n",
       "      <td>4.176797</td>\n",
       "      <td>2</td>\n",
       "    </tr>\n",
       "    <tr>\n",
       "      <th>3</th>\n",
       "      <td>3.400135</td>\n",
       "      <td>-22.253105</td>\n",
       "      <td>2</td>\n",
       "    </tr>\n",
       "    <tr>\n",
       "      <th>4</th>\n",
       "      <td>21.364860</td>\n",
       "      <td>15.981512</td>\n",
       "      <td>1</td>\n",
       "    </tr>\n",
       "  </tbody>\n",
       "</table>\n",
       "</div>"
      ],
      "text/plain": [
       "       pca 1      pca 2  severity\n",
       "0  44.023905 -17.182972         0\n",
       "1  -3.549790  -2.321428         0\n",
       "2   9.048354   4.176797         2\n",
       "3   3.400135 -22.253105         2\n",
       "4  21.364860  15.981512         1"
      ]
     },
     "execution_count": 52,
     "metadata": {},
     "output_type": "execute_result"
    }
   ],
   "source": [
    "pca__.head()"
   ]
  },
  {
   "cell_type": "code",
   "execution_count": 53,
   "metadata": {},
   "outputs": [
    {
     "data": {
      "image/png": "[encoded data removed]",
      "text/plain": [
       "<Figure size 1296x576 with 1 Axes>"
      ]
     },
     "metadata": {
      "needs_background": "light"
     },
     "output_type": "display_data"
    }
   ],
   "source": [
    "fig = plt.figure(figsize = (18,8))\n",
    "ax = fig.add_subplot(1,1,1) \n",
    "ax.set_xlabel('Principal Component 1', fontsize = 15)\n",
    "ax.set_ylabel('Principal Component 2', fontsize = 15)\n",
    "ax.set_title('2 component PCA', fontsize = 20)\n",
    "targets = [0, 1, 2]\n",
    "colors = ['r', 'g', 'b']\n",
    "for target, color in zip(targets,colors):\n",
    "    indicesToKeep = pca__['severity'] == target\n",
    "    ax.scatter(pca__.loc[indicesToKeep, 'pca 1']\n",
    "               , pca__.loc[indicesToKeep, 'pca 2']\n",
    "               , c = color\n",
    "               , s = 50)\n",
    "ax.legend(targets)\n",
    "ax.grid()\n"
   ]
  },
  {
   "cell_type": "markdown",
   "metadata": {},
   "source": [
    "### Oui, il y a un problème avec les données, la visualisation semble montrer qu'elles ne sont pas séparables (mais on ne peut conclure car c'est juste une ACP en 2D)"
   ]
  },
  {
   "cell_type": "code",
   "execution_count": 54,
   "metadata": {},
   "outputs": [],
   "source": [
    "import sklearn.linear_model as lm"
   ]
  },
  {
   "cell_type": "code",
   "execution_count": 55,
   "metadata": {},
   "outputs": [],
   "source": [
    "y = label[\"severity\"]\n",
    "X = dataOrg[:48]"
   ]
  },
  {
   "cell_type": "markdown",
   "metadata": {},
   "source": [
    "## Question 3-a : APplication de la régression linéaire"
   ]
  },
  {
   "cell_type": "code",
   "execution_count": 61,
   "metadata": {},
   "outputs": [],
   "source": [
    "reg = lm.LinearRegression().fit(X, y)"
   ]
  },
  {
   "cell_type": "code",
   "execution_count": 62,
   "metadata": {},
   "outputs": [
    {
     "name": "stdout",
     "output_type": "stream",
     "text": [
      "coefficient le plus grand  =  0.02802697327050885\n",
      "coefficient le plus petit =  -0.025834513228255054\n",
      "Il y a  0 coefficient non nul (voir plus bas).\n"
     ]
    }
   ],
   "source": [
    "coef_lm = reg.coef_\n",
    "print(\"coefficient le plus grand  = \",np.max(coef_lm))\n",
    "print(\"coefficient le plus petit = \", np.min(coef_lm))\n",
    "print(\"Il y a  0 coefficient non nul (voir plus bas).\")"
   ]
  },
  {
   "cell_type": "code",
   "execution_count": 63,
   "metadata": {},
   "outputs": [],
   "source": [
    "dataOrg.loc['lineaire',:] = coef_lm"
   ]
  },
  {
   "cell_type": "markdown",
   "metadata": {},
   "source": [
    "## Question 3-b : Les coeefficients sont estimés par la formule $\\hat{\\beta} = (X'X)^{-1} X'y$"
   ]
  },
  {
   "cell_type": "markdown",
   "metadata": {},
   "source": [
    "## Question 4-a : Application de la régression LASSO"
   ]
  },
  {
   "cell_type": "code",
   "execution_count": 64,
   "metadata": {},
   "outputs": [],
   "source": [
    "clf = lm.Lasso(alpha=0.1)\n",
    "clf.fit(X[:48], y)\n",
    "coef_lasso = clf.coef_"
   ]
  },
  {
   "cell_type": "code",
   "execution_count": 65,
   "metadata": {},
   "outputs": [
    {
     "name": "stdout",
     "output_type": "stream",
     "text": [
      "coefficient le plus grand =  0.14960596994448327\n",
      "coefficient le plus petit =  -0.05126785774067178\n",
      "Il y a  554 coefficients non nuls (voir plus bas).\n"
     ]
    }
   ],
   "source": [
    "coef_lasso = clf.coef_\n",
    "print(\"coefficient le plus grand = \",np.max(coef_lasso))\n",
    "print(\"coefficient le plus petit = \", np.min(coef_lasso))\n",
    "print(\"Il y a  554 coefficients non nuls (voir plus bas).\")"
   ]
  },
  {
   "cell_type": "markdown",
   "metadata": {},
   "source": [
    "## Question 4-b : $\\beta$ est estimé en minimisant la fonction $f(\\beta) =  \\frac{1}{N} ||y - X\\beta||_{2}^{2} +  \\lambda ||\\beta||$"
   ]
  },
  {
   "cell_type": "code",
   "execution_count": 69,
   "metadata": {},
   "outputs": [],
   "source": [
    "dataOrg.loc['lasso',:] = coef_lasso"
   ]
  },
  {
   "cell_type": "code",
   "execution_count": 67,
   "metadata": {},
   "outputs": [],
   "source": [
    "dataOrg.loc['keep_linaire',:] = coef_lm != 0\n",
    "dataOrg.loc['keep_lasso',:] = coef_lasso != 0"
   ]
  },
  {
   "cell_type": "code",
   "execution_count": 68,
   "metadata": {},
   "outputs": [
    {
     "data": {
      "text/html": [
       "<div>\n",
       "<style scoped>\n",
       "    .dataframe tbody tr th:only-of-type {\n",
       "        vertical-align: middle;\n",
       "    }\n",
       "\n",
       "    .dataframe tbody tr th {\n",
       "        vertical-align: top;\n",
       "    }\n",
       "\n",
       "    .dataframe thead th {\n",
       "        text-align: right;\n",
       "    }\n",
       "</style>\n",
       "<table border=\"1\" class=\"dataframe\">\n",
       "  <thead>\n",
       "    <tr style=\"text-align: right;\">\n",
       "      <th></th>\n",
       "      <th>67</th>\n",
       "      <th>386</th>\n",
       "      <th>519</th>\n",
       "      <th>625</th>\n",
       "      <th>713</th>\n",
       "      <th>954</th>\n",
       "      <th>981</th>\n",
       "      <th>1083</th>\n",
       "      <th>1329</th>\n",
       "      <th>1342</th>\n",
       "      <th>...</th>\n",
       "      <th>43909</th>\n",
       "      <th>44005</th>\n",
       "      <th>44045</th>\n",
       "      <th>44074</th>\n",
       "      <th>44171</th>\n",
       "      <th>44189</th>\n",
       "      <th>44335</th>\n",
       "      <th>44840</th>\n",
       "      <th>45034</th>\n",
       "      <th>45160</th>\n",
       "    </tr>\n",
       "  </thead>\n",
       "  <tbody>\n",
       "    <tr>\n",
       "      <th>mean</th>\n",
       "      <td>10.9029</td>\n",
       "      <td>10.6313</td>\n",
       "      <td>4.78008</td>\n",
       "      <td>5.30564</td>\n",
       "      <td>5.72002</td>\n",
       "      <td>8.61532</td>\n",
       "      <td>10.3591</td>\n",
       "      <td>4.079</td>\n",
       "      <td>10.8683</td>\n",
       "      <td>5.02081</td>\n",
       "      <td>...</td>\n",
       "      <td>3.84008</td>\n",
       "      <td>9.73186</td>\n",
       "      <td>9.20546</td>\n",
       "      <td>6.24267</td>\n",
       "      <td>3.80933</td>\n",
       "      <td>10.3298</td>\n",
       "      <td>5.9319</td>\n",
       "      <td>5.84243</td>\n",
       "      <td>6.0309</td>\n",
       "      <td>10.3296</td>\n",
       "    </tr>\n",
       "    <tr>\n",
       "      <th>var</th>\n",
       "      <td>2.75172</td>\n",
       "      <td>4.56771</td>\n",
       "      <td>3.66126</td>\n",
       "      <td>2.21715</td>\n",
       "      <td>2.50291</td>\n",
       "      <td>3.34969</td>\n",
       "      <td>2.07047</td>\n",
       "      <td>2.08072</td>\n",
       "      <td>3.29757</td>\n",
       "      <td>2.4392</td>\n",
       "      <td>...</td>\n",
       "      <td>2.11578</td>\n",
       "      <td>4.5536</td>\n",
       "      <td>2.03172</td>\n",
       "      <td>5.59771</td>\n",
       "      <td>2.7067</td>\n",
       "      <td>3.01824</td>\n",
       "      <td>3.42099</td>\n",
       "      <td>2.12792</td>\n",
       "      <td>3.05752</td>\n",
       "      <td>4.45313</td>\n",
       "    </tr>\n",
       "    <tr>\n",
       "      <th>lineaire</th>\n",
       "      <td>0.000820431</td>\n",
       "      <td>0.0121374</td>\n",
       "      <td>-0.00476956</td>\n",
       "      <td>-0.00281308</td>\n",
       "      <td>0.0059501</td>\n",
       "      <td>-0.00122705</td>\n",
       "      <td>0.00436745</td>\n",
       "      <td>0.00725851</td>\n",
       "      <td>-0.00139172</td>\n",
       "      <td>7.34357e-06</td>\n",
       "      <td>...</td>\n",
       "      <td>-0.00151829</td>\n",
       "      <td>0.00980771</td>\n",
       "      <td>-0.00324773</td>\n",
       "      <td>0.00552183</td>\n",
       "      <td>0.00498674</td>\n",
       "      <td>-8.16337e-05</td>\n",
       "      <td>-0.00125689</td>\n",
       "      <td>0.0028029</td>\n",
       "      <td>-0.00148142</td>\n",
       "      <td>0.00208021</td>\n",
       "    </tr>\n",
       "    <tr>\n",
       "      <th>lasso</th>\n",
       "      <td>0</td>\n",
       "      <td>0.034825</td>\n",
       "      <td>-0</td>\n",
       "      <td>0</td>\n",
       "      <td>0</td>\n",
       "      <td>-0</td>\n",
       "      <td>0</td>\n",
       "      <td>0</td>\n",
       "      <td>-0</td>\n",
       "      <td>-0</td>\n",
       "      <td>...</td>\n",
       "      <td>0</td>\n",
       "      <td>0</td>\n",
       "      <td>-0</td>\n",
       "      <td>0</td>\n",
       "      <td>0</td>\n",
       "      <td>0</td>\n",
       "      <td>-0</td>\n",
       "      <td>-0</td>\n",
       "      <td>-0</td>\n",
       "      <td>0</td>\n",
       "    </tr>\n",
       "    <tr>\n",
       "      <th>keep_linaire</th>\n",
       "      <td>True</td>\n",
       "      <td>True</td>\n",
       "      <td>True</td>\n",
       "      <td>True</td>\n",
       "      <td>True</td>\n",
       "      <td>True</td>\n",
       "      <td>True</td>\n",
       "      <td>True</td>\n",
       "      <td>True</td>\n",
       "      <td>True</td>\n",
       "      <td>...</td>\n",
       "      <td>True</td>\n",
       "      <td>True</td>\n",
       "      <td>True</td>\n",
       "      <td>True</td>\n",
       "      <td>True</td>\n",
       "      <td>True</td>\n",
       "      <td>True</td>\n",
       "      <td>True</td>\n",
       "      <td>True</td>\n",
       "      <td>True</td>\n",
       "    </tr>\n",
       "    <tr>\n",
       "      <th>keep_lasso</th>\n",
       "      <td>False</td>\n",
       "      <td>True</td>\n",
       "      <td>False</td>\n",
       "      <td>False</td>\n",
       "      <td>False</td>\n",
       "      <td>False</td>\n",
       "      <td>False</td>\n",
       "      <td>False</td>\n",
       "      <td>False</td>\n",
       "      <td>False</td>\n",
       "      <td>...</td>\n",
       "      <td>False</td>\n",
       "      <td>False</td>\n",
       "      <td>False</td>\n",
       "      <td>False</td>\n",
       "      <td>False</td>\n",
       "      <td>False</td>\n",
       "      <td>False</td>\n",
       "      <td>False</td>\n",
       "      <td>False</td>\n",
       "      <td>False</td>\n",
       "    </tr>\n",
       "  </tbody>\n",
       "</table>\n",
       "<p>6 rows × 583 columns</p>\n",
       "</div>"
      ],
      "text/plain": [
       "                    67         386         519         625        713    \\\n",
       "mean              10.9029    10.6313     4.78008     5.30564    5.72002   \n",
       "var               2.75172    4.56771     3.66126     2.21715    2.50291   \n",
       "lineaire      0.000820431  0.0121374 -0.00476956 -0.00281308  0.0059501   \n",
       "lasso                   0   0.034825          -0           0          0   \n",
       "keep_linaire         True       True        True        True       True   \n",
       "keep_lasso          False       True       False       False      False   \n",
       "\n",
       "                   954         981         1083        1329         1342   \\\n",
       "mean             8.61532     10.3591       4.079     10.8683      5.02081   \n",
       "var              3.34969     2.07047     2.08072     3.29757       2.4392   \n",
       "lineaire     -0.00122705  0.00436745  0.00725851 -0.00139172  7.34357e-06   \n",
       "lasso                 -0           0           0          -0           -0   \n",
       "keep_linaire        True        True        True        True         True   \n",
       "keep_lasso         False       False       False       False        False   \n",
       "\n",
       "                 ...           43909       44005       44045       44074  \\\n",
       "mean             ...         3.84008     9.73186     9.20546     6.24267   \n",
       "var              ...         2.11578      4.5536     2.03172     5.59771   \n",
       "lineaire         ...     -0.00151829  0.00980771 -0.00324773  0.00552183   \n",
       "lasso            ...               0           0          -0           0   \n",
       "keep_linaire     ...            True        True        True        True   \n",
       "keep_lasso       ...           False       False       False       False   \n",
       "\n",
       "                   44171        44189       44335      44840       45034  \\\n",
       "mean             3.80933      10.3298      5.9319    5.84243      6.0309   \n",
       "var               2.7067      3.01824     3.42099    2.12792     3.05752   \n",
       "lineaire      0.00498674 -8.16337e-05 -0.00125689  0.0028029 -0.00148142   \n",
       "lasso                  0            0          -0         -0          -0   \n",
       "keep_linaire        True         True        True       True        True   \n",
       "keep_lasso         False        False       False      False       False   \n",
       "\n",
       "                   45160  \n",
       "mean             10.3296  \n",
       "var              4.45313  \n",
       "lineaire      0.00208021  \n",
       "lasso                  0  \n",
       "keep_linaire        True  \n",
       "keep_lasso         False  \n",
       "\n",
       "[6 rows x 583 columns]"
      ]
     },
     "execution_count": 68,
     "metadata": {},
     "output_type": "execute_result"
    }
   ],
   "source": [
    "dataOrg.tail(6)"
   ]
  },
  {
   "cell_type": "code",
   "execution_count": 70,
   "metadata": {},
   "outputs": [
    {
     "data": {
      "text/plain": [
       "(54, 583)"
      ]
     },
     "execution_count": 70,
     "metadata": {},
     "output_type": "execute_result"
    }
   ],
   "source": [
    "(dataOrg.loc[:,dataOrg.loc['keep_linaire',:]]).shape"
   ]
  },
  {
   "cell_type": "code",
   "execution_count": 71,
   "metadata": {},
   "outputs": [
    {
     "data": {
      "text/plain": [
       "(54, 29)"
      ]
     },
     "execution_count": 71,
     "metadata": {},
     "output_type": "execute_result"
    }
   ],
   "source": [
    "(dataOrg.loc[:,dataOrg.loc['keep_lasso',:]]).shape"
   ]
  },
  {
   "cell_type": "markdown",
   "metadata": {},
   "source": [
    "## Question 5 : Annotation des gènes restants (pour la LASSO)"
   ]
  },
  {
   "cell_type": "code",
   "execution_count": 73,
   "metadata": {},
   "outputs": [
    {
     "data": {
      "text/plain": [
       "array(['lactotransferrin', 'butyrophilin-like 3',\n",
       "       'chromosome 7 open reading frame 16',\n",
       "       'apolipoprotein B mRNA editing enzyme, catalytic polypeptide-like 3A',\n",
       "       'EF-hand calcium binding domain 3',\n",
       "       'Rho guanine nucleotide exchange factor (GEF) 10',\n",
       "       'V-set and immunoglobulin domain containing 4',\n",
       "       'hemoglobin, gamma A', 'ribosomal protein S4, Y-linked 2', 11366,\n",
       "       13340, 'myomesin (M-protein) 2, 165kDa',\n",
       "       'secreted phosphoprotein 1',\n",
       "       'tetratricopeptide repeat, ankyrin repeat and coiled-coil containing 1',\n",
       "       'leucine-rich repeats and transmembrane domains 2',\n",
       "       'tripartite motif-containing 9', 18780,\n",
       "       'serpin peptidase inhibitor, clade B (ovalbumin), member 10',\n",
       "       'potassium voltage-gated channel, Shal-related subfamily, member 1',\n",
       "       'keratin 1',\n",
       "       'membrane-spanning 4-domains, subfamily A, member 3 (hematopoietic cell-specific)',\n",
       "       25974, 26691, 'kazrin', 'chromosome 1 open reading frame 173',\n",
       "       'platelet factor 4 variant 1',\n",
       "       'major histocompatibility complex, class II, DQ alpha 1',\n",
       "       'secreted phosphoprotein 1', 38907], dtype=object)"
      ]
     },
     "execution_count": 73,
     "metadata": {},
     "output_type": "execute_result"
    }
   ],
   "source": [
    "S = annotations#.iloc[:,1]\n",
    "dataOrg.rename(S,axis=1,inplace=True)\n",
    "dataOrg.loc[:,dataOrg.loc['keep_lasso',:]].columns.values"
   ]
  },
  {
   "cell_type": "markdown",
   "metadata": {},
   "source": [
    "## Question 6 : estimez la performance prédictive de ces combinaisons linéaires de transcrits avec la validation croisée. "
   ]
  },
  {
   "cell_type": "code",
   "execution_count": 34,
   "metadata": {},
   "outputs": [],
   "source": [
    "from sklearn.model_selection import cross_val_score\n",
    "scores_la = cross_val_score(clf, dataOrg[:48], label[\"severity\"], cv=10)\n",
    "scores_lm = cross_val_score(reg, dataOrg[:48], label[\"severity\"], cv=10)"
   ]
  },
  {
   "cell_type": "code",
   "execution_count": 35,
   "metadata": {},
   "outputs": [
    {
     "data": {
      "text/plain": [
       "<matplotlib.legend.Legend at 0x2bc4e968588>"
      ]
     },
     "execution_count": 35,
     "metadata": {},
     "output_type": "execute_result"
    },
    {
     "data": {
      "image/png": "[encoded data removed]",
      "text/plain": [
       "<Figure size 1296x504 with 1 Axes>"
      ]
     },
     "metadata": {
      "needs_background": "light"
     },
     "output_type": "display_data"
    }
   ],
   "source": [
    "plt.figure(1, figsize=(18,7))\n",
    "plt.plot(scores_la, label=\"Scores lasso\")\n",
    "plt.plot(scores_lm, label=\"Scores linear\")\n",
    "plt.xlabel('Number of features')\n",
    "plt.ylabel('Score')\n",
    "plt.legend()"
   ]
  },
  {
   "cell_type": "markdown",
   "metadata": {},
   "source": [
    "## Question 7 : La validation croisée ne peut pas nous permettre de conclure ici. On voit que les deux courbes sont pratiquement confondues. Elle n'est donc pas assez robuste ici."
   ]
  },
  {
   "cell_type": "markdown",
   "metadata": {},
   "source": [
    "<h2><center><font color=darkorange> Fin du TP </font></center></h2>"
   ]
  }
 ],
 "metadata": {
  "kernelspec": {
   "display_name": "Python 3",
   "language": "python",
   "name": "python3"
  },
  "language_info": {
   "codemirror_mode": {
    "name": "ipython",
    "version": 3
   },
   "file_extension": ".py",
   "mimetype": "text/x-python",
   "name": "python",
   "nbconvert_exporter": "python",
   "pygments_lexer": "ipython3",
   "version": "3.7.4"
  }
 },
 "nbformat": 4,
 "nbformat_minor": 2
}
